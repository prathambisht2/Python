{
 "cells": [
  {
   "cell_type": "code",
   "execution_count": null,
   "id": "20d761d4",
   "metadata": {},
   "outputs": [],
   "source": [
    "a=10\n",
    "print(a)\n"
   ]
  },
  {
   "cell_type": "code",
   "execution_count": 1,
   "id": "7d941cfd",
   "metadata": {},
   "outputs": [],
   "source": [
    "a=10"
   ]
  },
  {
   "cell_type": "code",
   "execution_count": 2,
   "id": "f6f65060",
   "metadata": {},
   "outputs": [
    {
     "data": {
      "text/plain": [
       "10"
      ]
     },
     "execution_count": 2,
     "metadata": {},
     "output_type": "execute_result"
    }
   ],
   "source": [
    "a"
   ]
  },
  {
   "cell_type": "code",
   "execution_count": 3,
   "id": "df46a973",
   "metadata": {},
   "outputs": [],
   "source": [
    "a,b=10,20"
   ]
  },
  {
   "cell_type": "code",
   "execution_count": 6,
   "id": "2eebab97",
   "metadata": {},
   "outputs": [
    {
     "data": {
      "text/plain": [
       "(10, 20)"
      ]
     },
     "execution_count": 6,
     "metadata": {},
     "output_type": "execute_result"
    }
   ],
   "source": [
    "a,b"
   ]
  },
  {
   "cell_type": "code",
   "execution_count": 10,
   "id": "10cf87e6",
   "metadata": {},
   "outputs": [
    {
     "name": "stdout",
     "output_type": "stream",
     "text": [
      "10 20/n"
     ]
    }
   ],
   "source": [
    "print(a,b)"
   ]
  },
  {
   "cell_type": "code",
   "execution_count": 11,
   "id": "fb2e87fb",
   "metadata": {},
   "outputs": [],
   "source": [
    "c=10"
   ]
  },
  {
   "cell_type": "code",
   "execution_count": 12,
   "id": "015016df",
   "metadata": {},
   "outputs": [
    {
     "data": {
      "text/plain": [
       "10"
      ]
     },
     "execution_count": 12,
     "metadata": {},
     "output_type": "execute_result"
    }
   ],
   "source": [
    "c"
   ]
  },
  {
   "cell_type": "code",
   "execution_count": 19,
   "id": "e0cf3d09",
   "metadata": {},
   "outputs": [
    {
     "ename": "SyntaxError",
     "evalue": "invalid decimal literal (1227585855.py, line 1)",
     "output_type": "error",
     "traceback": [
      "\u001b[1;36m  Cell \u001b[1;32mIn[19], line 1\u001b[1;36m\u001b[0m\n\u001b[1;33m    2c=1\u001b[0m\n\u001b[1;37m    ^\u001b[0m\n\u001b[1;31mSyntaxError\u001b[0m\u001b[1;31m:\u001b[0m invalid decimal literal\n"
     ]
    }
   ],
   "source": [
    "2c=1"
   ]
  },
  {
   "cell_type": "code",
   "execution_count": 25,
   "id": "5b986061",
   "metadata": {},
   "outputs": [],
   "source": [
    "_p=20\n"
   ]
  },
  {
   "cell_type": "code",
   "execution_count": 26,
   "id": "163e9f83",
   "metadata": {},
   "outputs": [
    {
     "data": {
      "text/plain": [
       "20"
      ]
     },
     "execution_count": 26,
     "metadata": {},
     "output_type": "execute_result"
    }
   ],
   "source": [
    "_p"
   ]
  },
  {
   "cell_type": "code",
   "execution_count": 27,
   "id": "bbde16d1",
   "metadata": {},
   "outputs": [],
   "source": [
    "p2=1"
   ]
  },
  {
   "cell_type": "code",
   "execution_count": 28,
   "id": "f72b0fc2",
   "metadata": {},
   "outputs": [
    {
     "data": {
      "text/plain": [
       "1"
      ]
     },
     "execution_count": 28,
     "metadata": {},
     "output_type": "execute_result"
    }
   ],
   "source": [
    "p2"
   ]
  },
  {
   "cell_type": "code",
   "execution_count": 29,
   "id": "c117f540",
   "metadata": {},
   "outputs": [],
   "source": [
    "a,b,c=\"Pratham\",10,52.5"
   ]
  },
  {
   "cell_type": "code",
   "execution_count": 33,
   "id": "fcce412e",
   "metadata": {},
   "outputs": [
    {
     "name": "stdout",
     "output_type": "stream",
     "text": [
      "<class 'str'> <class 'int'> <class 'float'>\n"
     ]
    }
   ],
   "source": [
    "print(type(a),type(b),type(c))"
   ]
  },
  {
   "cell_type": "code",
   "execution_count": 34,
   "id": "09a6ee7f",
   "metadata": {},
   "outputs": [],
   "source": [
    "b*=10"
   ]
  },
  {
   "cell_type": "code",
   "execution_count": 36,
   "id": "22ef22a3",
   "metadata": {},
   "outputs": [
    {
     "ename": "SyntaxError",
     "evalue": "invalid syntax (305774431.py, line 1)",
     "output_type": "error",
     "traceback": [
      "\u001b[1;36m  Cell \u001b[1;32mIn[36], line 1\u001b[1;36m\u001b[0m\n\u001b[1;33m    b*\u001b[0m\n\u001b[1;37m      ^\u001b[0m\n\u001b[1;31mSyntaxError\u001b[0m\u001b[1;31m:\u001b[0m invalid syntax\n"
     ]
    }
   ],
   "source": [
    "b*"
   ]
  },
  {
   "cell_type": "code",
   "execution_count": 37,
   "id": "7b6d4416",
   "metadata": {},
   "outputs": [],
   "source": [
    "b_=10"
   ]
  },
  {
   "cell_type": "code",
   "execution_count": 38,
   "id": "af54ed6f",
   "metadata": {},
   "outputs": [
    {
     "data": {
      "text/plain": [
       "10"
      ]
     },
     "execution_count": 38,
     "metadata": {},
     "output_type": "execute_result"
    }
   ],
   "source": [
    "b_"
   ]
  },
  {
   "cell_type": "code",
   "execution_count": 39,
   "id": "c077946b",
   "metadata": {},
   "outputs": [],
   "source": [
    "a=True"
   ]
  },
  {
   "cell_type": "code",
   "execution_count": 40,
   "id": "da897984",
   "metadata": {},
   "outputs": [
    {
     "data": {
      "text/plain": [
       "True"
      ]
     },
     "execution_count": 40,
     "metadata": {},
     "output_type": "execute_result"
    }
   ],
   "source": [
    "a"
   ]
  },
  {
   "cell_type": "code",
   "execution_count": 41,
   "id": "ef2f483e",
   "metadata": {},
   "outputs": [
    {
     "data": {
      "text/plain": [
       "bool"
      ]
     },
     "execution_count": 41,
     "metadata": {},
     "output_type": "execute_result"
    }
   ],
   "source": [
    "type(a)"
   ]
  },
  {
   "cell_type": "markdown",
   "id": "a1b048bb",
   "metadata": {},
   "source": [
    "False=0 , True=1"
   ]
  },
  {
   "cell_type": "code",
   "execution_count": 47,
   "id": "fb0102a9",
   "metadata": {},
   "outputs": [
    {
     "name": "stdout",
     "output_type": "stream",
     "text": [
      "4\n",
      "0\n"
     ]
    }
   ],
   "source": [
    "print(True+True+True+False+True)\n",
    "print(False-True+True)"
   ]
  },
  {
   "cell_type": "code",
   "execution_count": 60,
   "id": "4ff39cea",
   "metadata": {},
   "outputs": [],
   "source": [
    "n=45+6j\n",
    "m=56+8j"
   ]
  },
  {
   "cell_type": "code",
   "execution_count": 63,
   "id": "e9ae47e3",
   "metadata": {},
   "outputs": [
    {
     "data": {
      "text/plain": [
       "complex"
      ]
     },
     "execution_count": 63,
     "metadata": {},
     "output_type": "execute_result"
    }
   ],
   "source": [
    "type(n)\n",
    "type(m)"
   ]
  },
  {
   "cell_type": "code",
   "execution_count": 64,
   "id": "004986ae",
   "metadata": {},
   "outputs": [
    {
     "data": {
      "text/plain": [
       "(2472+696j)"
      ]
     },
     "execution_count": 64,
     "metadata": {},
     "output_type": "execute_result"
    }
   ],
   "source": [
    "n*m\n"
   ]
  },
  {
   "cell_type": "code",
   "execution_count": 66,
   "id": "17ea8ccc",
   "metadata": {},
   "outputs": [
    {
     "name": "stdout",
     "output_type": "stream",
     "text": [
      "(45+6j) (56+8j)\n"
     ]
    }
   ],
   "source": [
    "print(n,m)"
   ]
  },
  {
   "cell_type": "code",
   "execution_count": 51,
   "id": "43acd276",
   "metadata": {},
   "outputs": [
    {
     "data": {
      "text/plain": [
       "45.0"
      ]
     },
     "execution_count": 51,
     "metadata": {},
     "output_type": "execute_result"
    }
   ],
   "source": [
    "n.real"
   ]
  },
  {
   "cell_type": "code",
   "execution_count": 52,
   "id": "226b4a21",
   "metadata": {},
   "outputs": [
    {
     "data": {
      "text/plain": [
       "6.0"
      ]
     },
     "execution_count": 52,
     "metadata": {},
     "output_type": "execute_result"
    }
   ],
   "source": [
    "n.imag"
   ]
  },
  {
   "cell_type": "markdown",
   "id": "06039555",
   "metadata": {},
   "source": [
    "we cannot concatinate 2 different datatypes like int and string in the below case so we have to use type casting"
   ]
  },
  {
   "cell_type": "code",
   "execution_count": 108,
   "id": "431ae895",
   "metadata": {},
   "outputs": [
    {
     "ename": "TypeError",
     "evalue": "unsupported operand type(s) for +: 'int' and 'str'",
     "output_type": "error",
     "traceback": [
      "\u001b[1;31m---------------------------------------------------------------------------\u001b[0m",
      "\u001b[1;31mTypeError\u001b[0m                                 Traceback (most recent call last)",
      "Cell \u001b[1;32mIn[108], line 1\u001b[0m\n\u001b[1;32m----> 1\u001b[0m \u001b[38;5;241m1\u001b[39m\u001b[38;5;241m+\u001b[39m\u001b[38;5;124m\"\u001b[39m\u001b[38;5;124mpratham\u001b[39m\u001b[38;5;124m\"\u001b[39m\n",
      "\u001b[1;31mTypeError\u001b[0m: unsupported operand type(s) for +: 'int' and 'str'"
     ]
    }
   ],
   "source": [
    "1+\"pratham\""
   ]
  },
  {
   "cell_type": "code",
   "execution_count": 111,
   "id": "1048c95b",
   "metadata": {},
   "outputs": [
    {
     "data": {
      "text/plain": [
       "'1pratham'"
      ]
     },
     "execution_count": 111,
     "metadata": {},
     "output_type": "execute_result"
    }
   ],
   "source": [
    "str(1)+\"pratham\""
   ]
  },
  {
   "cell_type": "code",
   "execution_count": 71,
   "id": "cb27d4da",
   "metadata": {},
   "outputs": [
    {
     "data": {
      "text/plain": [
       "'1pratham'"
      ]
     },
     "execution_count": 71,
     "metadata": {},
     "output_type": "execute_result"
    }
   ],
   "source": [
    "\"1\"+\"pratham\""
   ]
  },
  {
   "cell_type": "code",
   "execution_count": 72,
   "id": "b43124ac",
   "metadata": {},
   "outputs": [
    {
     "data": {
      "text/plain": [
       "2.0"
      ]
     },
     "execution_count": 72,
     "metadata": {},
     "output_type": "execute_result"
    }
   ],
   "source": [
    "1+1.0"
   ]
  },
  {
   "cell_type": "code",
   "execution_count": 73,
   "id": "66c432f2",
   "metadata": {},
   "outputs": [
    {
     "data": {
      "text/plain": [
       "'prapra'"
      ]
     },
     "execution_count": 73,
     "metadata": {},
     "output_type": "execute_result"
    }
   ],
   "source": [
    "\"pra\"+\"pra\""
   ]
  },
  {
   "cell_type": "code",
   "execution_count": 74,
   "id": "a641b719",
   "metadata": {},
   "outputs": [
    {
     "data": {
      "text/plain": [
       "'prapra'"
      ]
     },
     "execution_count": 74,
     "metadata": {},
     "output_type": "execute_result"
    }
   ],
   "source": [
    "\"pra\"*2"
   ]
  },
  {
   "cell_type": "code",
   "execution_count": 3,
   "id": "1723f81a",
   "metadata": {},
   "outputs": [
    {
     "data": {
      "text/plain": [
       "23"
      ]
     },
     "execution_count": 3,
     "metadata": {},
     "output_type": "execute_result"
    }
   ],
   "source": [
    "int('23')"
   ]
  },
  {
   "cell_type": "code",
   "execution_count": 77,
   "id": "6c06aacb",
   "metadata": {},
   "outputs": [
    {
     "ename": "ValueError",
     "evalue": "invalid literal for int() with base 10: '23fs'",
     "output_type": "error",
     "traceback": [
      "\u001b[1;31m---------------------------------------------------------------------------\u001b[0m",
      "\u001b[1;31mValueError\u001b[0m                                Traceback (most recent call last)",
      "Cell \u001b[1;32mIn[77], line 1\u001b[0m\n\u001b[1;32m----> 1\u001b[0m \u001b[38;5;28mint\u001b[39m(\u001b[38;5;124m\"\u001b[39m\u001b[38;5;124m23fs\u001b[39m\u001b[38;5;124m\"\u001b[39m)\n",
      "\u001b[1;31mValueError\u001b[0m: invalid literal for int() with base 10: '23fs'"
     ]
    }
   ],
   "source": [
    "int(\"23fs\")"
   ]
  },
  {
   "cell_type": "code",
   "execution_count": 80,
   "id": "70543303",
   "metadata": {},
   "outputs": [
    {
     "name": "stdout",
     "output_type": "stream",
     "text": [
      "pb\n"
     ]
    }
   ],
   "source": [
    "a=input()"
   ]
  },
  {
   "cell_type": "code",
   "execution_count": 81,
   "id": "fff62b0d",
   "metadata": {},
   "outputs": [
    {
     "data": {
      "text/plain": [
       "'pb'"
      ]
     },
     "execution_count": 81,
     "metadata": {},
     "output_type": "execute_result"
    }
   ],
   "source": [
    "a"
   ]
  },
  {
   "cell_type": "code",
   "execution_count": 82,
   "id": "368942d0",
   "metadata": {},
   "outputs": [
    {
     "data": {
      "text/plain": [
       "str"
      ]
     },
     "execution_count": 82,
     "metadata": {},
     "output_type": "execute_result"
    }
   ],
   "source": [
    "type(a)"
   ]
  },
  {
   "cell_type": "code",
   "execution_count": 83,
   "id": "60b2e709",
   "metadata": {},
   "outputs": [
    {
     "name": "stdout",
     "output_type": "stream",
     "text": [
      "this is my no 25\n"
     ]
    }
   ],
   "source": [
    "a=input(\"this is my no \")"
   ]
  },
  {
   "cell_type": "code",
   "execution_count": 85,
   "id": "8b870649",
   "metadata": {},
   "outputs": [
    {
     "ename": "TypeError",
     "evalue": "can only concatenate str (not \"int\") to str",
     "output_type": "error",
     "traceback": [
      "\u001b[1;31m---------------------------------------------------------------------------\u001b[0m",
      "\u001b[1;31mTypeError\u001b[0m                                 Traceback (most recent call last)",
      "Cell \u001b[1;32mIn[85], line 1\u001b[0m\n\u001b[1;32m----> 1\u001b[0m a\u001b[38;5;241m+\u001b[39m\u001b[38;5;241m25\u001b[39m\n",
      "\u001b[1;31mTypeError\u001b[0m: can only concatenate str (not \"int\") to str"
     ]
    }
   ],
   "source": [
    "a+25 #this gives error because input() always gives output as string"
   ]
  },
  {
   "cell_type": "code",
   "execution_count": 84,
   "id": "f2f49c48",
   "metadata": {},
   "outputs": [
    {
     "data": {
      "text/plain": [
       "'25'"
      ]
     },
     "execution_count": 84,
     "metadata": {},
     "output_type": "execute_result"
    }
   ],
   "source": [
    "a"
   ]
  },
  {
   "cell_type": "code",
   "execution_count": 87,
   "id": "7976469f",
   "metadata": {},
   "outputs": [
    {
     "name": "stdout",
     "output_type": "stream",
     "text": [
      "enter a no 45\n",
      "enter a no 55\n",
      "enter a no 65\n"
     ]
    }
   ],
   "source": [
    "a=int(input(\"enter a no \"))\n",
    "b=int(input(\"enter a no \"))\n",
    "c=int(input(\"enter a no \"))"
   ]
  },
  {
   "cell_type": "code",
   "execution_count": 88,
   "id": "44487167",
   "metadata": {},
   "outputs": [],
   "source": [
    "o=a+b/c"
   ]
  },
  {
   "cell_type": "code",
   "execution_count": 90,
   "id": "2554c010",
   "metadata": {},
   "outputs": [
    {
     "name": "stdout",
     "output_type": "stream",
     "text": [
      "45.84615384615385\n"
     ]
    }
   ],
   "source": [
    "print(o)"
   ]
  },
  {
   "cell_type": "code",
   "execution_count": 97,
   "id": "557ab61a",
   "metadata": {},
   "outputs": [],
   "source": [
    "o1= o + 22 + 6j"
   ]
  },
  {
   "cell_type": "code",
   "execution_count": 98,
   "id": "a43c5248",
   "metadata": {},
   "outputs": [
    {
     "name": "stdout",
     "output_type": "stream",
     "text": [
      "(67.84615384615384+6j)\n"
     ]
    }
   ],
   "source": [
    "print(o1)"
   ]
  },
  {
   "cell_type": "code",
   "execution_count": 103,
   "id": "01c7c8d1",
   "metadata": {},
   "outputs": [
    {
     "data": {
      "text/plain": [
       "complex"
      ]
     },
     "execution_count": 103,
     "metadata": {},
     "output_type": "execute_result"
    }
   ],
   "source": [
    "type(o1)"
   ]
  },
  {
   "cell_type": "code",
   "execution_count": 105,
   "id": "6091acd4",
   "metadata": {},
   "outputs": [
    {
     "ename": "TypeError",
     "evalue": "unsupported operand type(s) for +: 'complex' and 'str'",
     "output_type": "error",
     "traceback": [
      "\u001b[1;31m---------------------------------------------------------------------------\u001b[0m",
      "\u001b[1;31mTypeError\u001b[0m                                 Traceback (most recent call last)",
      "Cell \u001b[1;32mIn[105], line 1\u001b[0m\n\u001b[1;32m----> 1\u001b[0m o1\u001b[38;5;241m+\u001b[39m\u001b[38;5;124m\"\u001b[39m\u001b[38;5;124mpratham\u001b[39m\u001b[38;5;124m\"\u001b[39m\n",
      "\u001b[1;31mTypeError\u001b[0m: unsupported operand type(s) for +: 'complex' and 'str'"
     ]
    }
   ],
   "source": [
    "o1+\"pratham\""
   ]
  },
  {
   "cell_type": "code",
   "execution_count": 109,
   "id": "9a073a5f",
   "metadata": {},
   "outputs": [
    {
     "data": {
      "text/plain": [
       "'(67.84615384615384+6j)pratham'"
      ]
     },
     "execution_count": 109,
     "metadata": {},
     "output_type": "execute_result"
    }
   ],
   "source": [
    "str(o1)+\"pratham\""
   ]
  },
  {
   "cell_type": "code",
   "execution_count": 124,
   "id": "872e926d",
   "metadata": {
    "collapsed": true,
    "scrolled": true
   },
   "outputs": [
    {
     "name": "stdout",
     "output_type": "stream",
     "text": [
      "enter a no 55\n",
      "run\n"
     ]
    }
   ],
   "source": [
    "a=int(input(\"enter a no \"))\n",
    "if a<34:  # if we don't want to write body then we use pass\n",
    "    pass\n",
    "    \n",
    "print(\"run\")"
   ]
  },
  {
   "cell_type": "code",
   "execution_count": 1,
   "id": "94ac3791",
   "metadata": {
    "scrolled": false
   },
   "outputs": [
    {
     "name": "stdout",
     "output_type": "stream",
     "text": [
      "enter a no 54\n",
      "greater than 34\n"
     ]
    }
   ],
   "source": [
    "a=int(input(\"enter a no \"))\n",
    "if a<34:\n",
    "    print(\"less than 34\")\n",
    "    \n",
    "elif(a==34):\n",
    "    print(\"it is 34\")\n",
    "    \n",
    "else:\n",
    "    print(\"greater than 34\")\n",
    "    \n"
   ]
  },
  {
   "cell_type": "code",
   "execution_count": 5,
   "id": "9af5c986",
   "metadata": {},
   "outputs": [
    {
     "name": "stdout",
     "output_type": "stream",
     "text": [
      "enter first name pratham\n",
      "enter last name Bisht\n",
      "false\n"
     ]
    }
   ],
   "source": [
    "first=input(\"enter first name \")\n",
    "last=input(\"enter last name \")\n",
    "if(first==\"pratham\" and last==\"bisht\"):\n",
    "    print(\"true\")\n",
    "else:\n",
    "    print(\"false\")"
   ]
  }
 ],
 "metadata": {
  "kernelspec": {
   "display_name": "Python 3 (ipykernel)",
   "language": "python",
   "name": "python3"
  },
  "language_info": {
   "codemirror_mode": {
    "name": "ipython",
    "version": 3
   },
   "file_extension": ".py",
   "mimetype": "text/x-python",
   "name": "python",
   "nbconvert_exporter": "python",
   "pygments_lexer": "ipython3",
   "version": "3.11.5"
  }
 },
 "nbformat": 4,
 "nbformat_minor": 5
}
