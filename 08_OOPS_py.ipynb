{
 "cells": [
  {
   "cell_type": "code",
   "execution_count": 1,
   "id": "e4471f2d",
   "metadata": {},
   "outputs": [
    {
     "name": "stdout",
     "output_type": "stream",
     "text": [
      "BMW\n",
      "BMW AUDI\n",
      "MERCEDEZ\n"
     ]
    }
   ],
   "source": [
    "class Car:\n",
    "    def __init__(self,brand,model):\n",
    "        self.car1=brand\n",
    "        self.car2=model\n",
    "    \n",
    "    def full_name(self):\n",
    "        self.car3=\"MERCEDEZ\"\n",
    "        print(self.car1,self.car2)  \n",
    "        print(self.car3)  \n",
    "    \n",
    "my_car=Car(\"BMW\",\"AUDI\")\n",
    "print(my_car.car1)\n",
    "my_car.full_name()\n"
   ]
  },
  {
   "cell_type": "code",
   "execution_count": 2,
   "id": "679c30e4",
   "metadata": {},
   "outputs": [
    {
     "name": "stdout",
     "output_type": "stream",
     "text": [
      "config is  i5  and  8gb\n",
      "config is  Ryzen5  and  16gb\n",
      "they are different\n",
      "BMW 8 5\n",
      "BMW 10 5\n"
     ]
    }
   ],
   "source": [
    "class Computer:\n",
    "    \n",
    "    def __init__(self,cpu,ram):\n",
    "        self.cpu=cpu\n",
    "        self.ram=ram\n",
    "    \n",
    "    def config(self):\n",
    "        print(\"config is \",self.cpu,\" and \",self.ram)\n",
    "        \n",
    "    def compare(self,comp2):\n",
    "        if self.cpu==comp2.cpu:\n",
    "            return True\n",
    "        else:\n",
    "            return False\n",
    "\n",
    "comp1=Computer(\"i5\",\"8gb\")\n",
    "comp2=Computer(\"Ryzen5\",\"16gb\")\n",
    "\n",
    "comp1.config()\n",
    "comp2.config()\n",
    "\n",
    "if comp1.compare(comp2):\n",
    "    print(\"they are same\")\n",
    "else:\n",
    "    print(\"they are different\")\n",
    "#print(id(comp1),id(comp2))\n",
    "\n",
    "class Car:\n",
    "    \n",
    "    wheel=4 #This is a class variable\n",
    "    \n",
    "    def __init__(self):\n",
    "       #These are instance variables\n",
    "       self.mil=10   \n",
    "       self.com=\"BMW\"\n",
    "\n",
    "c1=Car()\n",
    "c2=Car()\n",
    "\n",
    "c1.mil=8\n",
    "\n",
    "#Since wheel is a class variable hence we can change by\n",
    "Car.wheel=5 #Now wheel value is updated for both c1 & c2\n",
    "\n",
    "print(c1.com,c1.mil,c1.wheel)\n",
    "print(c2.com,c2.mil,c2.wheel)"
   ]
  },
  {
   "cell_type": "code",
   "execution_count": 3,
   "id": "c1b2f940",
   "metadata": {},
   "outputs": [
    {
     "name": "stdout",
     "output_type": "stream",
     "text": [
      "44.333333333333336\n",
      "51.0\n",
      "Telusko\n",
      "This is student class\n"
     ]
    }
   ],
   "source": [
    "class Student:\n",
    "    \n",
    "    school='Telusko' #class variable\n",
    "    \n",
    "    def __init__(self,m1,m2,m3):\n",
    "        self.m1=m1\n",
    "        self.m2=m2\n",
    "        self.m3=m3\n",
    "    \n",
    "    def avg(self):\n",
    "        return(self.m1+self.m2+self.m3)/3\n",
    "    \n",
    "    @classmethod\n",
    "    def getSchool(cls): #when we deal with class variable we use cls instead of self\n",
    "        return cls.school\n",
    "    \n",
    "    @staticmethod\n",
    "    def info():\n",
    "        print('This is student class')\n",
    "    \n",
    "    #getter\n",
    "    # def get_ml(self): \n",
    "    #     return self.m1\n",
    "    \n",
    "    #setter \n",
    "    # def set_ml(self,value): \n",
    "    #     self.m1=value\n",
    "\n",
    "s1=Student(34,67,32)\n",
    "s2=Student(89,32,32)\n",
    " \n",
    "print(s1.avg()) \n",
    "print(s2.avg()) \n",
    "print(Student.getSchool())   \n",
    "Student.info()  "
   ]
  },
  {
   "cell_type": "code",
   "execution_count": 13,
   "id": "75ad041b",
   "metadata": {},
   "outputs": [
    {
     "name": "stdout",
     "output_type": "stream",
     "text": [
      "Pratham 10\n",
      "HP i5 8\n",
      "8\n",
      "HP i5 8\n"
     ]
    }
   ],
   "source": [
    "class Student:\n",
    "    \n",
    "    def __init__(self,name,rollno):\n",
    "        self.name=name\n",
    "        self.rollno=rollno\n",
    "        self.lap=self.Laptop() #object of inner class inside the outer class\n",
    "        \n",
    "    def show(self):\n",
    "        print(self.name,self.rollno)\n",
    "        self.lap.show()\n",
    "        \n",
    "    class Laptop:\n",
    "        \n",
    "        def __init__(self):\n",
    "            self.brand=\"HP\"\n",
    "            self.cpu=\"i5\"\n",
    "            self.ram=8\n",
    "        \n",
    "        def show(self):\n",
    "            print(self.brand,self.cpu,self.ram)\n",
    "            \n",
    "s1=Student(\"Pratham\",10)\n",
    "s2=Student(\"Shubham\",20)\n",
    "\n",
    "s1.show()\n",
    "lap1=Student.Laptop() #object of inner class outside the outer class\n",
    "print(lap1.ram)\n",
    "lap1.show()"
   ]
  },
  {
   "cell_type": "markdown",
   "id": "49875eea",
   "metadata": {},
   "source": [
    "# INHERITANCE"
   ]
  },
  {
   "cell_type": "code",
   "execution_count": 15,
   "id": "6aded139",
   "metadata": {},
   "outputs": [
    {
     "name": "stdout",
     "output_type": "stream",
     "text": [
      "Feature 1 working\n",
      "Feature 2 working\n",
      "Feature 3 working\n",
      "Feature 2 working\n",
      "Feature 1 working\n",
      "Feature 5 working\n"
     ]
    }
   ],
   "source": [
    "#Inheritance,Parent class is also known as super class and child class as sub class\n",
    "class A:\n",
    "    def feat1(self):\n",
    "        print(\"Feature 1 working\")\n",
    "        \n",
    "    def feat2(self):\n",
    "        print(\"Feature 2 working\")\n",
    "        \n",
    "class B(A):\n",
    "    def feat3(self):\n",
    "        print(\"Feature 3 working\")\n",
    "        \n",
    "    def feat4(self):\n",
    "        print(\"Feature 4 working\")\n",
    "        \n",
    "class C(B):\n",
    "    def feat5(self):\n",
    "        print(\"Feature 5 working\")\n",
    "\n",
    "a1=A()\n",
    "a1.feat1()\n",
    "a1.feat2()\n",
    "\n",
    "b1=B()\n",
    "b1.feat3()\n",
    "b1.feat2()\n",
    "\n",
    "c1=C()\n",
    "c1.feat1()\n",
    "c1.feat5()"
   ]
  },
  {
   "cell_type": "code",
   "execution_count": 34,
   "id": "3fcd7b15",
   "metadata": {},
   "outputs": [
    {
     "name": "stdout",
     "output_type": "stream",
     "text": [
      "Feature 2 working\n",
      "in C init\n",
      "Feature 1-a working\n"
     ]
    }
   ],
   "source": [
    "class A:\n",
    "    \n",
    "    def __init__(self):\n",
    "        print(\"is A init\")\n",
    "        \n",
    "    def feat1(self):\n",
    "        print(\"Feature 1-a working\")\n",
    "        \n",
    "    def feat2(self):\n",
    "        print(\"Feature 2 working\")\n",
    "        \n",
    "class B:\n",
    "    \n",
    "    def __init__(self):\n",
    "        \n",
    "        print(\"is B init\")\n",
    "        \n",
    "    def feat(self):\n",
    "        print(\"Feature 1-b working\")\n",
    "        \n",
    "    def feat4(self):\n",
    "        print(\"Feature 4 working\")\n",
    "        \n",
    "class C(A,B):\n",
    "    def __init__(self):\n",
    "        super().feat2()\n",
    "        print(\"in C init\")    \n",
    "        \n",
    "a1=C()\n",
    "a1.feat1()"
   ]
  },
  {
   "cell_type": "markdown",
   "id": "19bce3ac",
   "metadata": {},
   "source": [
    "# POLYMORPHISM"
   ]
  },
  {
   "cell_type": "code",
   "execution_count": 35,
   "id": "0bbaf64a",
   "metadata": {},
   "outputs": [
    {
     "name": "stdout",
     "output_type": "stream",
     "text": [
      "compiling\n",
      "running\n"
     ]
    }
   ],
   "source": [
    "#duck typing\n",
    "\n",
    "class PyCharm:\n",
    "    \n",
    "    def execute(self):\n",
    "        print(\"compiling\")\n",
    "        print(\"running\")\n",
    "        \n",
    "class MyEditor:\n",
    "    def execute(self):\n",
    "        print(\"spell check\")\n",
    "        print(\"convention check\")\n",
    "        print(\"compiling\")\n",
    "        print(\"running\")\n",
    "        \n",
    "class Laptop:\n",
    "    def code(self,ide):\n",
    "        ide.execute()\n",
    "        \n",
    "\n",
    "ide=PyCharm()\n",
    "\n",
    "lap1=Laptop()\n",
    "lap1.code(ide)\n",
    "    "
   ]
  },
  {
   "cell_type": "code",
   "execution_count": 41,
   "id": "6fca1fe4",
   "metadata": {},
   "outputs": [
    {
     "name": "stdout",
     "output_type": "stream",
     "text": [
      "petrol or diesel\n",
      "electric charge\n"
     ]
    }
   ],
   "source": [
    "class Car:\n",
    "    \n",
    "    def feul_type(self):\n",
    "        print(\"petrol or diesel\")\n",
    "\n",
    "class Electric_Car:\n",
    "    def feul_type(self):\n",
    "        print(\"electric charge\")\n",
    "        \n",
    "a=Car()\n",
    "b=Electric_Car()\n",
    "\n",
    "a.feul_type()\n",
    "b.feul_type()\n",
    "        "
   ]
  },
  {
   "cell_type": "code",
   "execution_count": null,
   "id": "50f7a8a1",
   "metadata": {},
   "outputs": [],
   "source": []
  }
 ],
 "metadata": {
  "kernelspec": {
   "display_name": "Python 3 (ipykernel)",
   "language": "python",
   "name": "python3"
  },
  "language_info": {
   "codemirror_mode": {
    "name": "ipython",
    "version": 3
   },
   "file_extension": ".py",
   "mimetype": "text/x-python",
   "name": "python",
   "nbconvert_exporter": "python",
   "pygments_lexer": "ipython3",
   "version": "3.11.5"
  }
 },
 "nbformat": 4,
 "nbformat_minor": 5
}
