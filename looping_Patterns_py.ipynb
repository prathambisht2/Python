{
 "cells": [
  {
   "cell_type": "code",
   "execution_count": 1,
   "id": "f445bd91",
   "metadata": {},
   "outputs": [
    {
     "name": "stdout",
     "output_type": "stream",
     "text": [
      "5\n",
      "* \n",
      "* * \n",
      "* * * \n",
      "* * * * \n",
      "* * * * * \n"
     ]
    }
   ],
   "source": [
    "n=int(input())\n",
    "for i in range(0,n):\n",
    "    for j in range(0,i+1):\n",
    "        print('*',end=\" \")\n",
    "        \n",
    "    print(sep='\\n')"
   ]
  },
  {
   "cell_type": "code",
   "execution_count": 6,
   "id": "a01b37f7",
   "metadata": {},
   "outputs": [
    {
     "name": "stdout",
     "output_type": "stream",
     "text": [
      "    *\n",
      "   ***\n",
      "  *****\n",
      " *******\n",
      "*********\n"
     ]
    }
   ],
   "source": [
    "n=5\n",
    "cst=1\n",
    "csp=n-1\n",
    "for i in range(1,n+1):\n",
    "    for j in range(n-i):\n",
    "        print(\" \",end='')\n",
    "    for j in range(2*i-1):\n",
    "        print(\"*\",end='')\n",
    "    print()"
   ]
  },
  {
   "cell_type": "code",
   "execution_count": 7,
   "id": "ad5202da",
   "metadata": {},
   "outputs": [
    {
     "name": "stdout",
     "output_type": "stream",
     "text": [
      "*********\n",
      " *******\n",
      "  *****\n",
      "   ***\n",
      "    *\n"
     ]
    }
   ],
   "source": [
    "n=5\n",
    "row=1\n",
    "tst=2*n-1\n",
    "tsp=0\n",
    "while(row<=n):\n",
    "    csp=0\n",
    "    while(csp<tsp):\n",
    "        print(' ',end=\"\")\n",
    "        csp+=1\n",
    "        \n",
    "    \n",
    "    cst=0\n",
    "    while(cst<tst):\n",
    "        print(\"*\",end=\"\")\n",
    "        cst+=1\n",
    "    print()\n",
    "    tst-=2\n",
    "    tsp+=1\n",
    "    row+=1"
   ]
  },
  {
   "cell_type": "code",
   "execution_count": 2,
   "id": "806d6d35",
   "metadata": {},
   "outputs": [
    {
     "name": "stdout",
     "output_type": "stream",
     "text": [
      "5\n",
      "*****\n",
      "\n",
      "*   *\n",
      "\n",
      "*   *\n",
      "\n",
      "*   *\n",
      "\n",
      "*****\n",
      "\n"
     ]
    }
   ],
   "source": [
    "n=int(input())\n",
    "for i in range(0,n):\n",
    "    if i==0 or i==n-1:\n",
    "        for i in range(0,n):\n",
    "            print('*',end=\"\")\n",
    "        print('\\n') \n",
    "        \n",
    "    else:\n",
    "        print('*',end=\"\") \n",
    "        for j in range(1,n-1):\n",
    "            print(\" \",end=\"\")\n",
    "        print('*',end=\"\")   \n",
    "        \n",
    "        print('\\n')       \n",
    "    \n",
    "    "
   ]
  },
  {
   "cell_type": "code",
   "execution_count": 4,
   "id": "e65a7b99",
   "metadata": {},
   "outputs": [
    {
     "name": "stdout",
     "output_type": "stream",
     "text": [
      "5\n",
      "1\n",
      "11\n",
      "202\n",
      "3003\n",
      "40004\n"
     ]
    }
   ],
   "source": [
    "n=int(input())\n",
    "num=0\n",
    "for i in range(0,n):\n",
    "    for j in range(0,i+1):\n",
    "        if(i==0):\n",
    "            print(1,end=\"\")\n",
    "\n",
    "        else:\n",
    "            if(j==0 or j==i):\n",
    "                print(num,end=\"\")\n",
    "\n",
    "            else:\n",
    "                print(0,end=\"\")\n",
    "\n",
    "    num=num+1    \n",
    "    print(sep='\\n')"
   ]
  },
  {
   "cell_type": "code",
   "execution_count": 5,
   "id": "97a1d599",
   "metadata": {},
   "outputs": [
    {
     "name": "stdout",
     "output_type": "stream",
     "text": [
      "5\n",
      "*********\n",
      "**** ****\n",
      "***   ***\n",
      "**     **\n",
      "*       *\n",
      "**     **\n",
      "***   ***\n",
      "**** ****\n",
      "*********\n"
     ]
    }
   ],
   "source": [
    "n=int(input())\n",
    "tst=n-1\n",
    "tsp=1\n",
    "tst2=n-1\n",
    "row=1\n",
    "\n",
    "while(row<2*n):\n",
    "    if(row==1 or row==(2*n)-1):\n",
    "        for j in range(1,2*n):\n",
    "            print(\"*\",end=\"\")\n",
    "        print(sep='\\n')   \n",
    "        if(row==1):\n",
    "            tst=n-1\n",
    "            tsp=1\n",
    "            tst2=n-1\n",
    "            \n",
    "        row=row+1\n",
    "    \n",
    "    else:\n",
    "        cst=0\n",
    "        while(cst<tst):\n",
    "            print(\"*\",end=\"\")\n",
    "            cst=cst+1\n",
    "\n",
    "        csp=0\n",
    "        while(csp<tsp):\n",
    "            print(\" \",end=\"\")  \n",
    "            csp=csp+1  \n",
    "\n",
    "\n",
    "        cst2=0\n",
    "        while(cst2<tst2):\n",
    "            print(\"*\",end=\"\")\n",
    "            cst2=cst2+1\n",
    "\n",
    "        print(sep='\\n')\n",
    "        if(row<n):\n",
    "            tst=tst-1\n",
    "            tsp=tsp+2\n",
    "            tst2=tst2-1\n",
    "            \n",
    "\n",
    "        else:\n",
    "            tst=tst+1\n",
    "            tsp=tsp-2\n",
    "            tst2=tst2+1\n",
    "\n",
    "        row=row+1    \n",
    "    \n"
   ]
  },
  {
   "cell_type": "code",
   "execution_count": null,
   "id": "2f96266a",
   "metadata": {},
   "outputs": [],
   "source": []
  }
 ],
 "metadata": {
  "kernelspec": {
   "display_name": "Python 3 (ipykernel)",
   "language": "python",
   "name": "python3"
  },
  "language_info": {
   "codemirror_mode": {
    "name": "ipython",
    "version": 3
   },
   "file_extension": ".py",
   "mimetype": "text/x-python",
   "name": "python",
   "nbconvert_exporter": "python",
   "pygments_lexer": "ipython3",
   "version": "3.11.5"
  }
 },
 "nbformat": 4,
 "nbformat_minor": 5
}
