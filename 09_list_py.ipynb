{
 "cells": [
  {
   "cell_type": "markdown",
   "id": "fcd2bbd4",
   "metadata": {},
   "source": [
    "Note-:\n",
    "1.List is mutable object hence item assignment is possible\n",
    "2.A built-in data type that stores set of values\n",
    "3.It can store elements of different types (integer, float, string, etc.)"
   ]
  },
  {
   "cell_type": "code",
   "execution_count": 1,
   "id": "d140ba54",
   "metadata": {},
   "outputs": [],
   "source": [
    "l1=[\"pratham\",1,12,54,[22,32]]"
   ]
  },
  {
   "cell_type": "code",
   "execution_count": null,
   "id": "81ecd78d",
   "metadata": {},
   "outputs": [],
   "source": [
    "l1.ap"
   ]
  },
  {
   "cell_type": "code",
   "execution_count": 2,
   "id": "a7e7ec96",
   "metadata": {},
   "outputs": [
    {
     "data": {
      "text/plain": [
       "[22, 32]"
      ]
     },
     "execution_count": 2,
     "metadata": {},
     "output_type": "execute_result"
    }
   ],
   "source": [
    "l1[4]"
   ]
  },
  {
   "cell_type": "code",
   "execution_count": 3,
   "id": "ec20b24b",
   "metadata": {},
   "outputs": [
    {
     "data": {
      "text/plain": [
       "'pratham'"
      ]
     },
     "execution_count": 3,
     "metadata": {},
     "output_type": "execute_result"
    }
   ],
   "source": [
    "l1[0]"
   ]
  },
  {
   "cell_type": "code",
   "execution_count": 4,
   "id": "98af3fe2",
   "metadata": {},
   "outputs": [
    {
     "data": {
      "text/plain": [
       "[12, 54, [22, 32]]"
      ]
     },
     "execution_count": 4,
     "metadata": {},
     "output_type": "execute_result"
    }
   ],
   "source": [
    "l1[2:]"
   ]
  },
  {
   "cell_type": "code",
   "execution_count": 5,
   "id": "b5a9d933",
   "metadata": {},
   "outputs": [
    {
     "data": {
      "text/plain": [
       "[[22, 32], 54, 12, 1, 'pratham']"
      ]
     },
     "execution_count": 5,
     "metadata": {},
     "output_type": "execute_result"
    }
   ],
   "source": [
    "l1[::-1]"
   ]
  },
  {
   "cell_type": "code",
   "execution_count": 6,
   "id": "496e7f13",
   "metadata": {},
   "outputs": [],
   "source": [
    "s=\"sudh\""
   ]
  },
  {
   "cell_type": "code",
   "execution_count": 7,
   "id": "a0a989c8",
   "metadata": {},
   "outputs": [
    {
     "ename": "TypeError",
     "evalue": "can only concatenate list (not \"str\") to list",
     "output_type": "error",
     "traceback": [
      "\u001b[1;31m---------------------------------------------------------------------------\u001b[0m",
      "\u001b[1;31mTypeError\u001b[0m                                 Traceback (most recent call last)",
      "Cell \u001b[1;32mIn[7], line 1\u001b[0m\n\u001b[1;32m----> 1\u001b[0m l1\u001b[38;5;241m+\u001b[39ms\n",
      "\u001b[1;31mTypeError\u001b[0m: can only concatenate list (not \"str\") to list"
     ]
    }
   ],
   "source": [
    "l1+s"
   ]
  },
  {
   "cell_type": "code",
   "execution_count": 10,
   "id": "912811a5",
   "metadata": {},
   "outputs": [
    {
     "name": "stdout",
     "output_type": "stream",
     "text": [
      "['s', 'u', 'd', 'h']\n"
     ]
    }
   ],
   "source": [
    "print(list(s))"
   ]
  },
  {
   "cell_type": "code",
   "execution_count": 11,
   "id": "205850b1",
   "metadata": {},
   "outputs": [
    {
     "data": {
      "text/plain": [
       "['pratham', 1, 12, 54, [22, 32], 's', 'u', 'd', 'h']"
      ]
     },
     "execution_count": 11,
     "metadata": {},
     "output_type": "execute_result"
    }
   ],
   "source": [
    "l1+list(s)"
   ]
  },
  {
   "cell_type": "code",
   "execution_count": 12,
   "id": "ddfb2f2f",
   "metadata": {},
   "outputs": [],
   "source": [
    "s=[\"sudh\"]"
   ]
  },
  {
   "cell_type": "code",
   "execution_count": 13,
   "id": "9604f3da",
   "metadata": {},
   "outputs": [
    {
     "data": {
      "text/plain": [
       "['pratham', 1, 12, 54, [22, 32], 'sudh']"
      ]
     },
     "execution_count": 13,
     "metadata": {},
     "output_type": "execute_result"
    }
   ],
   "source": [
    "l1+s"
   ]
  },
  {
   "cell_type": "code",
   "execution_count": 24,
   "id": "097a0f44",
   "metadata": {},
   "outputs": [
    {
     "data": {
      "text/plain": [
       "['pratham',\n",
       " 1,\n",
       " 12,\n",
       " 54,\n",
       " [22, 32],\n",
       " 'pratham',\n",
       " 1,\n",
       " 12,\n",
       " 54,\n",
       " [22, 32],\n",
       " 'pratham',\n",
       " 1,\n",
       " 12,\n",
       " 54,\n",
       " [22, 32],\n",
       " 'pratham',\n",
       " 1,\n",
       " 12,\n",
       " 54,\n",
       " [22, 32]]"
      ]
     },
     "execution_count": 24,
     "metadata": {},
     "output_type": "execute_result"
    }
   ],
   "source": [
    "l1*4"
   ]
  },
  {
   "cell_type": "code",
   "execution_count": 15,
   "id": "0cb11309",
   "metadata": {},
   "outputs": [
    {
     "data": {
      "text/plain": [
       "5"
      ]
     },
     "execution_count": 15,
     "metadata": {},
     "output_type": "execute_result"
    }
   ],
   "source": [
    "len(l1)"
   ]
  },
  {
   "cell_type": "code",
   "execution_count": 16,
   "id": "b61962fc",
   "metadata": {},
   "outputs": [
    {
     "data": {
      "text/plain": [
       "True"
      ]
     },
     "execution_count": 16,
     "metadata": {},
     "output_type": "execute_result"
    }
   ],
   "source": [
    "\"pratham\" in l1"
   ]
  },
  {
   "cell_type": "code",
   "execution_count": 17,
   "id": "cfe83ab5",
   "metadata": {},
   "outputs": [
    {
     "data": {
      "text/plain": [
       "False"
      ]
     },
     "execution_count": 17,
     "metadata": {},
     "output_type": "execute_result"
    }
   ],
   "source": [
    "65 in l1"
   ]
  },
  {
   "cell_type": "code",
   "execution_count": 18,
   "id": "ecf8cbf2",
   "metadata": {},
   "outputs": [],
   "source": [
    "l1=[\"pratham\",1,12,54,[22,32]]"
   ]
  },
  {
   "cell_type": "code",
   "execution_count": 20,
   "id": "a3aaae32",
   "metadata": {},
   "outputs": [
    {
     "name": "stdout",
     "output_type": "stream",
     "text": [
      "pratham is not a list\n",
      "1 is not a list\n",
      "12 is not a list\n",
      "54 is not a list\n",
      "[22, 32] this is a list\n"
     ]
    }
   ],
   "source": [
    "for i in l1:\n",
    "    if type(i)==list:\n",
    "        print(\"{} this is a list\".format(i))\n",
    "    else:\n",
    "        print(\"{} is not a list\".format(i))"
   ]
  },
  {
   "cell_type": "code",
   "execution_count": 27,
   "id": "779cf6be",
   "metadata": {},
   "outputs": [
    {
     "data": {
      "text/plain": [
       "7"
      ]
     },
     "execution_count": 27,
     "metadata": {},
     "output_type": "execute_result"
    }
   ],
   "source": [
    "max([1,2,3,4,5,6,7])"
   ]
  },
  {
   "cell_type": "code",
   "execution_count": 28,
   "id": "3d073d00",
   "metadata": {},
   "outputs": [
    {
     "ename": "TypeError",
     "evalue": "'>' not supported between instances of 'int' and 'str'",
     "output_type": "error",
     "traceback": [
      "\u001b[1;31m---------------------------------------------------------------------------\u001b[0m",
      "\u001b[1;31mTypeError\u001b[0m                                 Traceback (most recent call last)",
      "Cell \u001b[1;32mIn[28], line 1\u001b[0m\n\u001b[1;32m----> 1\u001b[0m \u001b[38;5;28mmax\u001b[39m([\u001b[38;5;124m\"\u001b[39m\u001b[38;5;124mab\u001b[39m\u001b[38;5;124m\"\u001b[39m,\u001b[38;5;124m\"\u001b[39m\u001b[38;5;124mcd\u001b[39m\u001b[38;5;124m\"\u001b[39m,\u001b[38;5;241m7\u001b[39m])\n",
      "\u001b[1;31mTypeError\u001b[0m: '>' not supported between instances of 'int' and 'str'"
     ]
    }
   ],
   "source": [
    "max([\"ab\",\"cd\",7])"
   ]
  },
  {
   "cell_type": "code",
   "execution_count": 39,
   "id": "1a5060c1",
   "metadata": {},
   "outputs": [
    {
     "data": {
      "text/plain": [
       "'q'"
      ]
     },
     "execution_count": 39,
     "metadata": {},
     "output_type": "execute_result"
    }
   ],
   "source": [
    "max([\"pratham\",\"bisht\",\"q\"]) #beacuse ASCII value of Q-81 and q-113 so max is SMALL q"
   ]
  },
  {
   "cell_type": "code",
   "execution_count": 37,
   "id": "354ed006",
   "metadata": {},
   "outputs": [
    {
     "data": {
      "text/plain": [
       "'A'"
      ]
     },
     "execution_count": 37,
     "metadata": {},
     "output_type": "execute_result"
    }
   ],
   "source": [
    "min([\"a\",\"dec\",\"A\"]) #beacuse ASCII value of A-65 and a-97 so min is CAPITAL A"
   ]
  },
  {
   "cell_type": "code",
   "execution_count": 54,
   "id": "6867e608",
   "metadata": {},
   "outputs": [],
   "source": [
    "l1=[1,2,3,4]"
   ]
  },
  {
   "cell_type": "code",
   "execution_count": 55,
   "id": "88ab8f6d",
   "metadata": {},
   "outputs": [],
   "source": [
    "l1.append(5) #it will add at the end of the list"
   ]
  },
  {
   "cell_type": "code",
   "execution_count": 56,
   "id": "85ed1778",
   "metadata": {},
   "outputs": [
    {
     "data": {
      "text/plain": [
       "[1, 2, 3, 4, 5]"
      ]
     },
     "execution_count": 56,
     "metadata": {},
     "output_type": "execute_result"
    }
   ],
   "source": [
    "l1"
   ]
  },
  {
   "cell_type": "code",
   "execution_count": 57,
   "id": "aeddeeba",
   "metadata": {},
   "outputs": [
    {
     "data": {
      "text/plain": [
       "1"
      ]
     },
     "execution_count": 57,
     "metadata": {},
     "output_type": "execute_result"
    }
   ],
   "source": [
    "l1.index(2) #Return first index of value"
   ]
  },
  {
   "cell_type": "code",
   "execution_count": 58,
   "id": "dbbff38b",
   "metadata": {},
   "outputs": [],
   "source": [
    "l1.insert(1,\"pratham\") #Insert object before index, syntax-->l1.insert(index, object)"
   ]
  },
  {
   "cell_type": "code",
   "execution_count": 59,
   "id": "e3b43b55",
   "metadata": {
    "scrolled": true
   },
   "outputs": [
    {
     "data": {
      "text/plain": [
       "[1, 'pratham', 2, 3, 4, 5]"
      ]
     },
     "execution_count": 59,
     "metadata": {},
     "output_type": "execute_result"
    }
   ],
   "source": [
    "l1"
   ]
  },
  {
   "cell_type": "code",
   "execution_count": 60,
   "id": "fedcdcb8",
   "metadata": {},
   "outputs": [],
   "source": [
    "l1.remove(2) #Remove first occurrence of value"
   ]
  },
  {
   "cell_type": "code",
   "execution_count": 61,
   "id": "36e5c86b",
   "metadata": {},
   "outputs": [
    {
     "data": {
      "text/plain": [
       "[1, 'pratham', 3, 4, 5]"
      ]
     },
     "execution_count": 61,
     "metadata": {},
     "output_type": "execute_result"
    }
   ],
   "source": [
    "l1"
   ]
  },
  {
   "cell_type": "code",
   "execution_count": 62,
   "id": "bfaeb975",
   "metadata": {},
   "outputs": [],
   "source": [
    "l1.insert(-1,\"ayush\")"
   ]
  },
  {
   "cell_type": "code",
   "execution_count": 63,
   "id": "e1318a74",
   "metadata": {},
   "outputs": [
    {
     "data": {
      "text/plain": [
       "[1, 'pratham', 3, 4, 'ayush', 5]"
      ]
     },
     "execution_count": 63,
     "metadata": {},
     "output_type": "execute_result"
    }
   ],
   "source": [
    "l1 #previously 5 was at -1 position so insert will add \"ayush\" before 5"
   ]
  },
  {
   "cell_type": "code",
   "execution_count": 64,
   "id": "55707699",
   "metadata": {},
   "outputs": [],
   "source": [
    "l1.append(2)"
   ]
  },
  {
   "cell_type": "code",
   "execution_count": 65,
   "id": "c75fc131",
   "metadata": {},
   "outputs": [
    {
     "data": {
      "text/plain": [
       "1"
      ]
     },
     "execution_count": 65,
     "metadata": {},
     "output_type": "execute_result"
    }
   ],
   "source": [
    "l1.count(2) #Return number of occurrences of value"
   ]
  },
  {
   "cell_type": "code",
   "execution_count": 66,
   "id": "5aedb1a8",
   "metadata": {},
   "outputs": [
    {
     "data": {
      "text/plain": [
       "[1, 2, 3, 4, 't', 'e', 's', 't']"
      ]
     },
     "execution_count": 66,
     "metadata": {},
     "output_type": "execute_result"
    }
   ],
   "source": [
    "l=[1,2,3,4]\n",
    "s=\"test\"\n",
    "l+list(s)"
   ]
  },
  {
   "cell_type": "code",
   "execution_count": 67,
   "id": "1a7b09db",
   "metadata": {},
   "outputs": [],
   "source": [
    "l.extend(s) #Extend list by appending elements from the iterable means add at the end char by char"
   ]
  },
  {
   "cell_type": "code",
   "execution_count": 68,
   "id": "fe18a400",
   "metadata": {},
   "outputs": [
    {
     "data": {
      "text/plain": [
       "[1, 2, 3, 4, 't', 'e', 's', 't']"
      ]
     },
     "execution_count": 68,
     "metadata": {},
     "output_type": "execute_result"
    }
   ],
   "source": [
    "l"
   ]
  },
  {
   "cell_type": "code",
   "execution_count": 69,
   "id": "aa454068",
   "metadata": {},
   "outputs": [],
   "source": [
    "l.append(s)"
   ]
  },
  {
   "cell_type": "code",
   "execution_count": 70,
   "id": "e35590bc",
   "metadata": {},
   "outputs": [
    {
     "name": "stdout",
     "output_type": "stream",
     "text": [
      "[1, 2, 3, 4, 't', 'e', 's', 't', 'test', 1, 2, 3, 4, 't', 'e', 's', 't', 'test']\n"
     ]
    }
   ],
   "source": [
    "l=l+l\n",
    "print(l)"
   ]
  },
  {
   "cell_type": "code",
   "execution_count": 71,
   "id": "4907ef12",
   "metadata": {},
   "outputs": [
    {
     "data": {
      "text/plain": [
       "1"
      ]
     },
     "execution_count": 71,
     "metadata": {},
     "output_type": "execute_result"
    }
   ],
   "source": [
    "l.index(2) #Return first index of value"
   ]
  },
  {
   "cell_type": "code",
   "execution_count": 72,
   "id": "eedaee4e",
   "metadata": {},
   "outputs": [
    {
     "data": {
      "text/plain": [
       "'test'"
      ]
     },
     "execution_count": 72,
     "metadata": {},
     "output_type": "execute_result"
    }
   ],
   "source": [
    "l.pop() #Remove and return item at index (default last)"
   ]
  },
  {
   "cell_type": "code",
   "execution_count": 73,
   "id": "b3eb20ee",
   "metadata": {},
   "outputs": [
    {
     "data": {
      "text/plain": [
       "[1, 2, 3, 4, 't', 'e', 's', 't', 'test', 1, 2, 3, 4, 't', 'e', 's', 't']"
      ]
     },
     "execution_count": 73,
     "metadata": {},
     "output_type": "execute_result"
    }
   ],
   "source": [
    "l"
   ]
  },
  {
   "cell_type": "code",
   "execution_count": 74,
   "id": "50eccf04",
   "metadata": {},
   "outputs": [],
   "source": [
    "l1=[1,8,12,2]"
   ]
  },
  {
   "cell_type": "code",
   "execution_count": 75,
   "id": "6626965c",
   "metadata": {},
   "outputs": [],
   "source": [
    "l1.reverse() #Reverse *IN PLACE*"
   ]
  },
  {
   "cell_type": "code",
   "execution_count": 76,
   "id": "0b4d12be",
   "metadata": {},
   "outputs": [
    {
     "data": {
      "text/plain": [
       "[2, 12, 8, 1]"
      ]
     },
     "execution_count": 76,
     "metadata": {},
     "output_type": "execute_result"
    }
   ],
   "source": [
    "l1"
   ]
  },
  {
   "cell_type": "code",
   "execution_count": 77,
   "id": "7245a2b4",
   "metadata": {},
   "outputs": [],
   "source": [
    "l1.sort() #Sort the list in ascending order and return None"
   ]
  },
  {
   "cell_type": "code",
   "execution_count": 78,
   "id": "cb285409",
   "metadata": {},
   "outputs": [
    {
     "data": {
      "text/plain": [
       "[1, 2, 8, 12]"
      ]
     },
     "execution_count": 78,
     "metadata": {},
     "output_type": "execute_result"
    }
   ],
   "source": [
    "l1"
   ]
  },
  {
   "cell_type": "code",
   "execution_count": 9,
   "id": "a371725f",
   "metadata": {},
   "outputs": [],
   "source": [
    "list1=[[1,2.3],\"hello\",[\"pra\",50.2]]"
   ]
  },
  {
   "cell_type": "markdown",
   "id": "01954a72",
   "metadata": {},
   "source": [
    "Q1.Add 2 list and 1 complex no in between the list1"
   ]
  },
  {
   "cell_type": "code",
   "execution_count": 10,
   "id": "5d279d65",
   "metadata": {},
   "outputs": [],
   "source": [
    "list1.insert(1,[5,6])\n",
    "list1.insert(-1,[\"bisht\",\"hi\"])\n",
    "list1.insert(3,55+6j)"
   ]
  },
  {
   "cell_type": "code",
   "execution_count": 11,
   "id": "064dc73d",
   "metadata": {},
   "outputs": [
    {
     "data": {
      "text/plain": [
       "[[1, 2.3], [5, 6], 'hello', (55+6j), ['bisht', 'hi'], ['pra', 50.2]]"
      ]
     },
     "execution_count": 11,
     "metadata": {},
     "output_type": "execute_result"
    }
   ],
   "source": [
    "list1"
   ]
  },
  {
   "cell_type": "markdown",
   "id": "68c40a6c",
   "metadata": {},
   "source": [
    "Q2.if your nested list contains string then find its index in nested list and print it then remove the string"
   ]
  },
  {
   "cell_type": "code",
   "execution_count": 12,
   "id": "d178af0d",
   "metadata": {},
   "outputs": [
    {
     "name": "stdout",
     "output_type": "stream",
     "text": [
      "index of string bisht is 0\n",
      "index of string hi is 1\n",
      "the string removed from nested loop is bisht\n",
      "the string removed from nested loop is hi\n",
      "index of string pra is 0\n",
      "the string removed from nested loop is pra\n"
     ]
    }
   ],
   "source": [
    "for i in list1:\n",
    "    if type(i)==list:\n",
    "        j=0\n",
    "        while j<len(i):\n",
    "            if type(i[j])==str:\n",
    "                print(\"index of string {} is {}\".format(i[j],j))\n",
    "            j=j+1\n",
    "            \n",
    "        j=0\n",
    "        while j<len(i):\n",
    "            if type(i[j])==str:\n",
    "                print(\"the string removed from nested loop is {}\".format(i[j]))\n",
    "                i.remove(i[j])\n",
    "                continue\n",
    "            \n",
    "            j=j+1                     "
   ]
  },
  {
   "cell_type": "code",
   "execution_count": 7,
   "id": "53f17b1c",
   "metadata": {},
   "outputs": [
    {
     "data": {
      "text/plain": [
       "[[1, 2.3], [5, 6], 'hello', (55+6j), [], [50.2]]"
      ]
     },
     "execution_count": 7,
     "metadata": {},
     "output_type": "execute_result"
    }
   ],
   "source": [
    "list1"
   ]
  },
  {
   "cell_type": "markdown",
   "id": "254c7041",
   "metadata": {},
   "source": [
    "Q3.extract 2nd element of each nested list"
   ]
  },
  {
   "cell_type": "code",
   "execution_count": 13,
   "id": "b8f5ea4e",
   "metadata": {},
   "outputs": [
    {
     "name": "stdout",
     "output_type": "stream",
     "text": [
      "2.3\n",
      "6\n"
     ]
    }
   ],
   "source": [
    "for i in list1:\n",
    "    if type(i)==list:\n",
    "        if(len(i)==2):\n",
    "            print(i[1])"
   ]
  },
  {
   "cell_type": "code",
   "execution_count": 14,
   "id": "39a496bd",
   "metadata": {},
   "outputs": [],
   "source": [
    "l=[1,2,3,4,5]"
   ]
  },
  {
   "cell_type": "code",
   "execution_count": 15,
   "id": "b0d11edd",
   "metadata": {},
   "outputs": [],
   "source": [
    "l1=[]"
   ]
  },
  {
   "cell_type": "code",
   "execution_count": 16,
   "id": "c041d95d",
   "metadata": {},
   "outputs": [],
   "source": [
    "for i in \"pratham\":\n",
    "    l1.append(i)"
   ]
  },
  {
   "cell_type": "code",
   "execution_count": 17,
   "id": "40f5fece",
   "metadata": {},
   "outputs": [
    {
     "data": {
      "text/plain": [
       "['p', 'r', 'a', 't', 'h', 'a', 'm']"
      ]
     },
     "execution_count": 17,
     "metadata": {},
     "output_type": "execute_result"
    }
   ],
   "source": [
    "l1"
   ]
  },
  {
   "cell_type": "code",
   "execution_count": 18,
   "id": "5236b298",
   "metadata": {},
   "outputs": [
    {
     "data": {
      "text/plain": [
       "['s', 'u', 'd', 'h']"
      ]
     },
     "execution_count": 18,
     "metadata": {},
     "output_type": "execute_result"
    }
   ],
   "source": [
    "#list comprehension operation\n",
    "[i for i in \"sudh\"]"
   ]
  },
  {
   "cell_type": "code",
   "execution_count": 19,
   "id": "9b4c2b9f",
   "metadata": {},
   "outputs": [
    {
     "data": {
      "text/plain": [
       "[['s'], ['u'], ['d'], ['h']]"
      ]
     },
     "execution_count": 19,
     "metadata": {},
     "output_type": "execute_result"
    }
   ],
   "source": [
    "[[i] for i in \"sudh\"]"
   ]
  },
  {
   "cell_type": "code",
   "execution_count": 20,
   "id": "d70270e4",
   "metadata": {},
   "outputs": [
    {
     "name": "stdout",
     "output_type": "stream",
     "text": [
      "[0, 2, 4, 6, 8]\n"
     ]
    }
   ],
   "source": [
    "l=[]\n",
    "for i in range(10):\n",
    "    if(i%2==0):\n",
    "        l.append(i)\n",
    "print(l)"
   ]
  },
  {
   "cell_type": "code",
   "execution_count": 23,
   "id": "8698bd4c",
   "metadata": {},
   "outputs": [
    {
     "data": {
      "text/plain": [
       "[0, 2, 4, 6, 8]"
      ]
     },
     "execution_count": 23,
     "metadata": {},
     "output_type": "execute_result"
    }
   ],
   "source": [
    "[i for i in range(10) if i%2==0]"
   ]
  },
  {
   "cell_type": "code",
   "execution_count": 24,
   "id": "c81d0b48",
   "metadata": {},
   "outputs": [
    {
     "data": {
      "text/plain": [
       "['even', 'odd', 'even', 'odd', 'even', 'odd', 'even', 'odd', 'even', 'odd']"
      ]
     },
     "execution_count": 24,
     "metadata": {},
     "output_type": "execute_result"
    }
   ],
   "source": [
    "[\"even\" if i%2==0 else \"odd\" for i in range(10)]"
   ]
  },
  {
   "cell_type": "code",
   "execution_count": 25,
   "id": "00bc8c50",
   "metadata": {},
   "outputs": [
    {
     "name": "stdout",
     "output_type": "stream",
     "text": [
      "[[0, 1, 2], [0, 1, 2], [0, 1, 2]]\n"
     ]
    }
   ],
   "source": [
    "mat=[]\n",
    "for i in range(3):\n",
    "    mat.append([])\n",
    "    for j in range(3):\n",
    "        mat[i].append(j)\n",
    "print(mat)        "
   ]
  },
  {
   "cell_type": "code",
   "execution_count": 26,
   "id": "03d36199",
   "metadata": {},
   "outputs": [
    {
     "data": {
      "text/plain": [
       "[[0, 1, 2], [0, 1, 2], [0, 1, 2]]"
      ]
     },
     "execution_count": 26,
     "metadata": {},
     "output_type": "execute_result"
    }
   ],
   "source": [
    "[[j for j in range(3)] for i in range(3)]"
   ]
  }
 ],
 "metadata": {
  "kernelspec": {
   "display_name": "Python 3 (ipykernel)",
   "language": "python",
   "name": "python3"
  },
  "language_info": {
   "codemirror_mode": {
    "name": "ipython",
    "version": 3
   },
   "file_extension": ".py",
   "mimetype": "text/x-python",
   "name": "python",
   "nbconvert_exporter": "python",
   "pygments_lexer": "ipython3",
   "version": "3.11.5"
  }
 },
 "nbformat": 4,
 "nbformat_minor": 5
}
