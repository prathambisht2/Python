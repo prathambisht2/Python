{
 "cells": [
  {
   "cell_type": "markdown",
   "id": "0b9552bd",
   "metadata": {},
   "source": [
    " NOTE-:\n",
    " 1.String is a immutable object hence it does not support item assignment"
   ]
  },
  {
   "cell_type": "code",
   "execution_count": 2,
   "id": "61a259f7",
   "metadata": {
    "scrolled": true
   },
   "outputs": [
    {
     "ename": "SyntaxError",
     "evalue": "unterminated string literal (detected at line 1) (2427728214.py, line 1)",
     "output_type": "error",
     "traceback": [
      "\u001b[1;36m  Cell \u001b[1;32mIn[2], line 1\u001b[1;36m\u001b[0m\n\u001b[1;33m    a=\"prath\"am\"\u001b[0m\n\u001b[1;37m               ^\u001b[0m\n\u001b[1;31mSyntaxError\u001b[0m\u001b[1;31m:\u001b[0m unterminated string literal (detected at line 1)\n"
     ]
    }
   ],
   "source": [
    "a=\"prath\"am\""
   ]
  },
  {
   "cell_type": "code",
   "execution_count": 3,
   "id": "fc19a200",
   "metadata": {},
   "outputs": [],
   "source": [
    "a=\"prath'am\""
   ]
  },
  {
   "cell_type": "code",
   "execution_count": 4,
   "id": "c80d7139",
   "metadata": {},
   "outputs": [
    {
     "data": {
      "text/plain": [
       "\"prath'am\""
      ]
     },
     "execution_count": 4,
     "metadata": {},
     "output_type": "execute_result"
    }
   ],
   "source": [
    "a"
   ]
  },
  {
   "cell_type": "code",
   "execution_count": 5,
   "id": "c3cb12fd",
   "metadata": {},
   "outputs": [
    {
     "ename": "SyntaxError",
     "evalue": "unterminated string literal (detected at line 1) (3294942975.py, line 1)",
     "output_type": "error",
     "traceback": [
      "\u001b[1;36m  Cell \u001b[1;32mIn[5], line 1\u001b[1;36m\u001b[0m\n\u001b[1;33m    b='bis'ht'\u001b[0m\n\u001b[1;37m             ^\u001b[0m\n\u001b[1;31mSyntaxError\u001b[0m\u001b[1;31m:\u001b[0m unterminated string literal (detected at line 1)\n"
     ]
    }
   ],
   "source": [
    "b='bis'ht'"
   ]
  },
  {
   "cell_type": "code",
   "execution_count": 6,
   "id": "a6b136d2",
   "metadata": {},
   "outputs": [],
   "source": [
    "b='bis\"ht'"
   ]
  },
  {
   "cell_type": "code",
   "execution_count": 7,
   "id": "4a5f2724",
   "metadata": {},
   "outputs": [
    {
     "data": {
      "text/plain": [
       "'bis\"ht'"
      ]
     },
     "execution_count": 7,
     "metadata": {},
     "output_type": "execute_result"
    }
   ],
   "source": [
    "b"
   ]
  },
  {
   "cell_type": "code",
   "execution_count": 8,
   "id": "7cd28584",
   "metadata": {},
   "outputs": [],
   "source": [
    "str1=\"hello everybody\""
   ]
  },
  {
   "cell_type": "code",
   "execution_count": 9,
   "id": "2349df87",
   "metadata": {},
   "outputs": [
    {
     "name": "stdout",
     "output_type": "stream",
     "text": [
      "h\n",
      "e\n",
      "l\n",
      "l\n",
      "o\n",
      " \n",
      "e\n",
      "v\n",
      "e\n",
      "r\n",
      "y\n",
      "b\n",
      "o\n",
      "d\n",
      "y\n"
     ]
    }
   ],
   "source": [
    "for i in range(len(str1)):\n",
    "    print(str1[i])"
   ]
  },
  {
   "cell_type": "code",
   "execution_count": 10,
   "id": "8b8bcd1a",
   "metadata": {},
   "outputs": [
    {
     "ename": "TypeError",
     "evalue": "'str' object does not support item assignment",
     "output_type": "error",
     "traceback": [
      "\u001b[1;31m---------------------------------------------------------------------------\u001b[0m",
      "\u001b[1;31mTypeError\u001b[0m                                 Traceback (most recent call last)",
      "Cell \u001b[1;32mIn[10], line 1\u001b[0m\n\u001b[1;32m----> 1\u001b[0m str1[\u001b[38;5;241m1\u001b[39m]\u001b[38;5;241m=\u001b[39m\u001b[38;5;124m\"\u001b[39m\u001b[38;5;124mp\u001b[39m\u001b[38;5;124m\"\u001b[39m\n",
      "\u001b[1;31mTypeError\u001b[0m: 'str' object does not support item assignment"
     ]
    }
   ],
   "source": [
    "str1[1]=\"p\"  #error because string is immutable"
   ]
  },
  {
   "cell_type": "code",
   "execution_count": 11,
   "id": "252bb58a",
   "metadata": {},
   "outputs": [
    {
     "data": {
      "text/plain": [
       "'pratham bisht'"
      ]
     },
     "execution_count": 11,
     "metadata": {},
     "output_type": "execute_result"
    }
   ],
   "source": [
    "\"pratham\" + \" bisht\""
   ]
  },
  {
   "cell_type": "code",
   "execution_count": 12,
   "id": "9332fb80",
   "metadata": {},
   "outputs": [
    {
     "ename": "TypeError",
     "evalue": "can only concatenate str (not \"int\") to str",
     "output_type": "error",
     "traceback": [
      "\u001b[1;31m---------------------------------------------------------------------------\u001b[0m",
      "\u001b[1;31mTypeError\u001b[0m                                 Traceback (most recent call last)",
      "Cell \u001b[1;32mIn[12], line 1\u001b[0m\n\u001b[1;32m----> 1\u001b[0m \u001b[38;5;124m\"\u001b[39m\u001b[38;5;124mpratham\u001b[39m\u001b[38;5;124m\"\u001b[39m \u001b[38;5;241m+\u001b[39m \u001b[38;5;241m3\u001b[39m\n",
      "\u001b[1;31mTypeError\u001b[0m: can only concatenate str (not \"int\") to str"
     ]
    }
   ],
   "source": [
    "\"pratham\" + 3"
   ]
  },
  {
   "cell_type": "code",
   "execution_count": 13,
   "id": "06fd249a",
   "metadata": {},
   "outputs": [
    {
     "data": {
      "text/plain": [
       "'1 pratham'"
      ]
     },
     "execution_count": 13,
     "metadata": {},
     "output_type": "execute_result"
    }
   ],
   "source": [
    "str(1) +\" pratham\""
   ]
  },
  {
   "cell_type": "code",
   "execution_count": 14,
   "id": "4731726a",
   "metadata": {},
   "outputs": [
    {
     "ename": "TypeError",
     "evalue": "can only concatenate str (not \"list\") to str",
     "output_type": "error",
     "traceback": [
      "\u001b[1;31m---------------------------------------------------------------------------\u001b[0m",
      "\u001b[1;31mTypeError\u001b[0m                                 Traceback (most recent call last)",
      "Cell \u001b[1;32mIn[14], line 1\u001b[0m\n\u001b[1;32m----> 1\u001b[0m \u001b[38;5;124m\"\u001b[39m\u001b[38;5;124mpratham\u001b[39m\u001b[38;5;124m\"\u001b[39m \u001b[38;5;241m+\u001b[39m [\u001b[38;5;241m1\u001b[39m,\u001b[38;5;241m2\u001b[39m,\u001b[38;5;124m\"\u001b[39m\u001b[38;5;124mbisht\u001b[39m\u001b[38;5;124m\"\u001b[39m]\n",
      "\u001b[1;31mTypeError\u001b[0m: can only concatenate str (not \"list\") to str"
     ]
    }
   ],
   "source": [
    "\"pratham\" + [1,2,\"bisht\"]"
   ]
  },
  {
   "cell_type": "code",
   "execution_count": 15,
   "id": "72e8c9a2",
   "metadata": {},
   "outputs": [
    {
     "data": {
      "text/plain": [
       "'prathamprathamprathampratham'"
      ]
     },
     "execution_count": 15,
     "metadata": {},
     "output_type": "execute_result"
    }
   ],
   "source": [
    "\"pratham\"*4"
   ]
  },
  {
   "cell_type": "code",
   "execution_count": 16,
   "id": "665a5228",
   "metadata": {},
   "outputs": [],
   "source": [
    "s=\"my name is name\""
   ]
  },
  {
   "cell_type": "code",
   "execution_count": 17,
   "id": "5abc2840",
   "metadata": {},
   "outputs": [
    {
     "data": {
      "text/plain": [
       "0"
      ]
     },
     "execution_count": 17,
     "metadata": {},
     "output_type": "execute_result"
    }
   ],
   "source": [
    "s.find('m') #give index of first occurence of 'm' ie 0"
   ]
  },
  {
   "cell_type": "code",
   "execution_count": 18,
   "id": "a272ac98",
   "metadata": {},
   "outputs": [
    {
     "data": {
      "text/plain": [
       "-1"
      ]
     },
     "execution_count": 18,
     "metadata": {},
     "output_type": "execute_result"
    }
   ],
   "source": [
    "s.find('mn') "
   ]
  },
  {
   "cell_type": "code",
   "execution_count": 19,
   "id": "f48c3c47",
   "metadata": {},
   "outputs": [
    {
     "name": "stdout",
     "output_type": "stream",
     "text": [
      "3\n",
      "4\n",
      "5\n",
      "6\n"
     ]
    }
   ],
   "source": [
    "b=s.find('name') \n",
    "for i in range(len(\"name\")):\n",
    "    print(b+i)"
   ]
  },
  {
   "cell_type": "code",
   "execution_count": 20,
   "id": "76e0487c",
   "metadata": {},
   "outputs": [
    {
     "data": {
      "text/plain": [
       "3"
      ]
     },
     "execution_count": 20,
     "metadata": {},
     "output_type": "execute_result"
    }
   ],
   "source": [
    " s.count('m') #count all occurence of substring 'm' in the string"
   ]
  },
  {
   "cell_type": "code",
   "execution_count": 21,
   "id": "83b8eb21",
   "metadata": {},
   "outputs": [
    {
     "data": {
      "text/plain": [
       "2"
      ]
     },
     "execution_count": 21,
     "metadata": {},
     "output_type": "execute_result"
    }
   ],
   "source": [
    "s.count(\"name\")"
   ]
  },
  {
   "cell_type": "code",
   "execution_count": 22,
   "id": "5b5fe5f7",
   "metadata": {},
   "outputs": [
    {
     "data": {
      "text/plain": [
       "['my', 'name', 'is', 'name']"
      ]
     },
     "execution_count": 22,
     "metadata": {},
     "output_type": "execute_result"
    }
   ],
   "source": [
    "s.split()  #split all substring acc to whitespace in a list of string"
   ]
  },
  {
   "cell_type": "code",
   "execution_count": 23,
   "id": "cd765f02",
   "metadata": {},
   "outputs": [],
   "source": [
    "str2=\"hello mate. how are you.what u upto today\""
   ]
  },
  {
   "cell_type": "code",
   "execution_count": 24,
   "id": "eec063ad",
   "metadata": {},
   "outputs": [
    {
     "data": {
      "text/plain": [
       "['hello mate', ' how are you', 'what u upto today']"
      ]
     },
     "execution_count": 24,
     "metadata": {},
     "output_type": "execute_result"
    }
   ],
   "source": [
    "str2.split('.') #it has split the string on the basis of (.)"
   ]
  },
  {
   "cell_type": "code",
   "execution_count": 25,
   "id": "662d0a4b",
   "metadata": {},
   "outputs": [
    {
     "data": {
      "text/plain": [
       "['hell', ' mate. h', 'w are y', 'u.what u upt', ' t', 'day']"
      ]
     },
     "execution_count": 25,
     "metadata": {},
     "output_type": "execute_result"
    }
   ],
   "source": [
    "str2.split('o')"
   ]
  },
  {
   "cell_type": "code",
   "execution_count": 26,
   "id": "b639da72",
   "metadata": {},
   "outputs": [
    {
     "data": {
      "text/plain": [
       "list"
      ]
     },
     "execution_count": 26,
     "metadata": {},
     "output_type": "execute_result"
    }
   ],
   "source": [
    "type(str2.split('o'))"
   ]
  },
  {
   "cell_type": "code",
   "execution_count": 27,
   "id": "5ba9b8c3",
   "metadata": {},
   "outputs": [],
   "source": [
    "a=\"pratham how are you\""
   ]
  },
  {
   "cell_type": "code",
   "execution_count": 28,
   "id": "b1f4b7fb",
   "metadata": {},
   "outputs": [
    {
     "data": {
      "text/plain": [
       "'PRATHAM HOW ARE YOU'"
      ]
     },
     "execution_count": 28,
     "metadata": {},
     "output_type": "execute_result"
    }
   ],
   "source": [
    "a.upper() #convert all lowercase char to uppercase"
   ]
  },
  {
   "cell_type": "code",
   "execution_count": 29,
   "id": "a6adbcfb",
   "metadata": {},
   "outputs": [
    {
     "data": {
      "text/plain": [
       "'pratham how are you'"
      ]
     },
     "execution_count": 29,
     "metadata": {},
     "output_type": "execute_result"
    }
   ],
   "source": [
    "a.lower() #convert all uppercase char to lowercase"
   ]
  },
  {
   "cell_type": "code",
   "execution_count": 30,
   "id": "cbcc110d",
   "metadata": {},
   "outputs": [],
   "source": [
    "b=\"HELLO guys\""
   ]
  },
  {
   "cell_type": "code",
   "execution_count": 31,
   "id": "bf9df97d",
   "metadata": {},
   "outputs": [
    {
     "data": {
      "text/plain": [
       "'hello GUYS'"
      ]
     },
     "execution_count": 31,
     "metadata": {},
     "output_type": "execute_result"
    }
   ],
   "source": [
    "b.swapcase() #convert all uppercase into lowercase and all lowercase into uppercase"
   ]
  },
  {
   "cell_type": "code",
   "execution_count": 32,
   "id": "d2f4541e",
   "metadata": {},
   "outputs": [
    {
     "data": {
      "text/plain": [
       "'H E L L O   g u y s'"
      ]
     },
     "execution_count": 32,
     "metadata": {},
     "output_type": "execute_result"
    }
   ],
   "source": [
    "\" \".join(b)"
   ]
  },
  {
   "cell_type": "code",
   "execution_count": 33,
   "id": "33312e15",
   "metadata": {},
   "outputs": [
    {
     "data": {
      "text/plain": [
       "'H#E#L#L#O# #g#u#y#s'"
      ]
     },
     "execution_count": 33,
     "metadata": {},
     "output_type": "execute_result"
    }
   ],
   "source": [
    "\"#\".join(b) #will add # between every character of String b"
   ]
  },
  {
   "cell_type": "code",
   "execution_count": 34,
   "id": "d1c0cf46",
   "metadata": {},
   "outputs": [
    {
     "data": {
      "text/plain": [
       "'syug OLLEH'"
      ]
     },
     "execution_count": 34,
     "metadata": {},
     "output_type": "execute_result"
    }
   ],
   "source": [
    "b[::-1] #reverse"
   ]
  },
  {
   "cell_type": "code",
   "execution_count": 35,
   "id": "2392c525",
   "metadata": {},
   "outputs": [],
   "source": [
    "c=list(reversed(b))"
   ]
  },
  {
   "cell_type": "code",
   "execution_count": 36,
   "id": "c8ab3050",
   "metadata": {},
   "outputs": [
    {
     "name": "stdout",
     "output_type": "stream",
     "text": [
      "['s', 'y', 'u', 'g', ' ', 'O', 'L', 'L', 'E', 'H']\n"
     ]
    }
   ],
   "source": [
    "print(c)"
   ]
  },
  {
   "cell_type": "code",
   "execution_count": 37,
   "id": "5fa93926",
   "metadata": {},
   "outputs": [],
   "source": [
    "c=reversed(b)"
   ]
  },
  {
   "cell_type": "code",
   "execution_count": 38,
   "id": "15960ce3",
   "metadata": {},
   "outputs": [
    {
     "data": {
      "text/plain": [
       "<reversed at 0x277e2b67190>"
      ]
     },
     "execution_count": 38,
     "metadata": {},
     "output_type": "execute_result"
    }
   ],
   "source": [
    "c"
   ]
  },
  {
   "cell_type": "code",
   "execution_count": 39,
   "id": "8ba27160",
   "metadata": {},
   "outputs": [
    {
     "name": "stdout",
     "output_type": "stream",
     "text": [
      "syug OLLEH\n"
     ]
    }
   ],
   "source": [
    "output=\"\".join(c)\n",
    "print(output)"
   ]
  },
  {
   "cell_type": "code",
   "execution_count": 40,
   "id": "c75b0f12",
   "metadata": {},
   "outputs": [],
   "source": [
    "#string is reversed\n",
    "for i in c:\n",
    "    print(i)"
   ]
  },
  {
   "cell_type": "code",
   "execution_count": 41,
   "id": "0038f31a",
   "metadata": {},
   "outputs": [],
   "source": [
    "d=\"    prath am    \""
   ]
  },
  {
   "cell_type": "code",
   "execution_count": 42,
   "id": "bc5a826f",
   "metadata": {},
   "outputs": [
    {
     "data": {
      "text/plain": [
       "'prath am'"
      ]
     },
     "execution_count": 42,
     "metadata": {},
     "output_type": "execute_result"
    }
   ],
   "source": [
    "d.strip() #it will remove all space from extreme left and extreme right of the string"
   ]
  },
  {
   "cell_type": "code",
   "execution_count": 43,
   "id": "e4029908",
   "metadata": {},
   "outputs": [
    {
     "data": {
      "text/plain": [
       "'prath am    '"
      ]
     },
     "execution_count": 43,
     "metadata": {},
     "output_type": "execute_result"
    }
   ],
   "source": [
    "d.lstrip()"
   ]
  },
  {
   "cell_type": "code",
   "execution_count": 44,
   "id": "424c9904",
   "metadata": {},
   "outputs": [
    {
     "data": {
      "text/plain": [
       "'    prath am'"
      ]
     },
     "execution_count": 44,
     "metadata": {},
     "output_type": "execute_result"
    }
   ],
   "source": [
    "d.rstrip()"
   ]
  },
  {
   "cell_type": "code",
   "execution_count": 45,
   "id": "d384d87d",
   "metadata": {},
   "outputs": [],
   "source": [
    "s=\"hello everyone\""
   ]
  },
  {
   "cell_type": "raw",
   "id": "758206f6",
   "metadata": {},
   "source": [
    " s.replace('o','i') #will replace all occurence of 'o' with 'i'"
   ]
  },
  {
   "cell_type": "code",
   "execution_count": 46,
   "id": "03a7b23f",
   "metadata": {},
   "outputs": [
    {
     "data": {
      "text/plain": [
       "'hello everyone'"
      ]
     },
     "execution_count": 46,
     "metadata": {},
     "output_type": "execute_result"
    }
   ],
   "source": [
    "'''we have replaced 'o' with 'i' but still our string remains the same this is because string is immutable \n",
    "so we have to store changes in new variable'''\n",
    "s"
   ]
  },
  {
   "cell_type": "code",
   "execution_count": 47,
   "id": "2cddcb1d",
   "metadata": {},
   "outputs": [],
   "source": [
    "s= s.replace('o','i') #now internally new s variable is formed and cursor will now point to updated string"
   ]
  },
  {
   "cell_type": "code",
   "execution_count": 48,
   "id": "1ddaa492",
   "metadata": {},
   "outputs": [
    {
     "data": {
      "text/plain": [
       "'helli everyine'"
      ]
     },
     "execution_count": 48,
     "metadata": {},
     "output_type": "execute_result"
    }
   ],
   "source": [
    "s"
   ]
  },
  {
   "cell_type": "code",
   "execution_count": 49,
   "id": "c746ae49",
   "metadata": {},
   "outputs": [],
   "source": [
    "s=\"pratham\""
   ]
  },
  {
   "cell_type": "code",
   "execution_count": 50,
   "id": "10c77bc9",
   "metadata": {},
   "outputs": [
    {
     "data": {
      "text/plain": [
       "'@@@@@@@@pratham@@@@@@@@'"
      ]
     },
     "execution_count": 50,
     "metadata": {},
     "output_type": "execute_result"
    }
   ],
   "source": [
    "s.center(23,'@')"
   ]
  },
  {
   "cell_type": "code",
   "execution_count": 51,
   "id": "6ae3babd",
   "metadata": {},
   "outputs": [],
   "source": [
    "s=\"prath\\tam\\tbisht\""
   ]
  },
  {
   "cell_type": "code",
   "execution_count": 52,
   "id": "9a89470a",
   "metadata": {},
   "outputs": [
    {
     "data": {
      "text/plain": [
       "'prath   am      bisht'"
      ]
     },
     "execution_count": 52,
     "metadata": {},
     "output_type": "execute_result"
    }
   ],
   "source": [
    "s.expandtabs()"
   ]
  },
  {
   "cell_type": "code",
   "execution_count": 53,
   "id": "c146ed4e",
   "metadata": {},
   "outputs": [],
   "source": [
    "a=\"we all are a part of Full Stack\""
   ]
  },
  {
   "cell_type": "markdown",
   "id": "518312c6",
   "metadata": {},
   "source": [
    "Q1.normalize all the string in lower case"
   ]
  },
  {
   "cell_type": "code",
   "execution_count": 54,
   "id": "cf52d655",
   "metadata": {},
   "outputs": [
    {
     "data": {
      "text/plain": [
       "'we all are a part of full stack'"
      ]
     },
     "execution_count": 54,
     "metadata": {},
     "output_type": "execute_result"
    }
   ],
   "source": [
    "a.lower()"
   ]
  },
  {
   "cell_type": "markdown",
   "id": "0a873910",
   "metadata": {},
   "source": [
    "Q2.find all occurence of 'a' in the entire string"
   ]
  },
  {
   "cell_type": "code",
   "execution_count": 55,
   "id": "537af646",
   "metadata": {},
   "outputs": [
    {
     "data": {
      "text/plain": [
       "5"
      ]
     },
     "execution_count": 55,
     "metadata": {},
     "output_type": "execute_result"
    }
   ],
   "source": [
    "a.count('a')"
   ]
  },
  {
   "cell_type": "code",
   "execution_count": 56,
   "id": "5258c394",
   "metadata": {},
   "outputs": [
    {
     "data": {
      "text/plain": [
       "31"
      ]
     },
     "execution_count": 56,
     "metadata": {},
     "output_type": "execute_result"
    }
   ],
   "source": [
    "len(a)"
   ]
  },
  {
   "cell_type": "markdown",
   "id": "657c0f2a",
   "metadata": {},
   "source": [
    "Q3.find all the index of 'a' in string"
   ]
  },
  {
   "cell_type": "code",
   "execution_count": 57,
   "id": "93893422",
   "metadata": {},
   "outputs": [
    {
     "name": "stdout",
     "output_type": "stream",
     "text": [
      "3\n",
      "7\n",
      "11\n",
      "14\n",
      "28\n"
     ]
    }
   ],
   "source": [
    "for i in range(len(a)):\n",
    "    if (a[i]=='a'):\n",
    "        print(i)"
   ]
  },
  {
   "cell_type": "markdown",
   "id": "6fe48fc9",
   "metadata": {},
   "source": [
    "Q4.replace all 'a' with 'p' in the string"
   ]
  },
  {
   "cell_type": "code",
   "execution_count": 58,
   "id": "c6f9c366",
   "metadata": {},
   "outputs": [
    {
     "data": {
      "text/plain": [
       "'we pll pre p pprt of Full Stpck'"
      ]
     },
     "execution_count": 58,
     "metadata": {},
     "output_type": "execute_result"
    }
   ],
   "source": [
    "a.replace('a','p')\n"
   ]
  },
  {
   "cell_type": "markdown",
   "id": "4e391f02",
   "metadata": {},
   "source": [
    "Q5.print all the words as a list"
   ]
  },
  {
   "cell_type": "code",
   "execution_count": 59,
   "id": "a6bdc58b",
   "metadata": {},
   "outputs": [
    {
     "data": {
      "text/plain": [
       "['we', 'all', 'are', 'a', 'part', 'of', 'Full', 'Stack']"
      ]
     },
     "execution_count": 59,
     "metadata": {},
     "output_type": "execute_result"
    }
   ],
   "source": [
    "a.split()"
   ]
  },
  {
   "cell_type": "code",
   "execution_count": 60,
   "id": "628912bc",
   "metadata": {},
   "outputs": [],
   "source": [
    "s=\"sudh\""
   ]
  },
  {
   "cell_type": "code",
   "execution_count": 61,
   "id": "53a4bd20",
   "metadata": {},
   "outputs": [
    {
     "name": "stdout",
     "output_type": "stream",
     "text": [
      "False\n",
      "True\n"
     ]
    }
   ],
   "source": [
    "print(s.isupper())\n",
    "print(s.islower())"
   ]
  },
  {
   "cell_type": "code",
   "execution_count": 62,
   "id": "cad31753",
   "metadata": {},
   "outputs": [],
   "source": [
    "s=\"SUDH\""
   ]
  },
  {
   "cell_type": "code",
   "execution_count": 63,
   "id": "67101585",
   "metadata": {},
   "outputs": [
    {
     "name": "stdout",
     "output_type": "stream",
     "text": [
      "True\n",
      "False\n"
     ]
    }
   ],
   "source": [
    "print(s.isupper())\n",
    "print(s.islower())"
   ]
  },
  {
   "cell_type": "code",
   "execution_count": 64,
   "id": "d48669d1",
   "metadata": {},
   "outputs": [],
   "source": [
    "s=\"    sudh\""
   ]
  },
  {
   "cell_type": "code",
   "execution_count": 65,
   "id": "17a46971",
   "metadata": {},
   "outputs": [
    {
     "data": {
      "text/plain": [
       "False"
      ]
     },
     "execution_count": 65,
     "metadata": {},
     "output_type": "execute_result"
    }
   ],
   "source": [
    "s.isspace()"
   ]
  },
  {
   "cell_type": "code",
   "execution_count": 66,
   "id": "a86d3927",
   "metadata": {},
   "outputs": [],
   "source": [
    "s=\" \""
   ]
  },
  {
   "cell_type": "code",
   "execution_count": 67,
   "id": "a0d478ee",
   "metadata": {},
   "outputs": [
    {
     "data": {
      "text/plain": [
       "True"
      ]
     },
     "execution_count": 67,
     "metadata": {},
     "output_type": "execute_result"
    }
   ],
   "source": [
    "s.isspace()"
   ]
  },
  {
   "cell_type": "code",
   "execution_count": 68,
   "id": "ee8b8415",
   "metadata": {},
   "outputs": [],
   "source": [
    "s=\"1234\""
   ]
  },
  {
   "cell_type": "code",
   "execution_count": 69,
   "id": "25d8d630",
   "metadata": {},
   "outputs": [
    {
     "data": {
      "text/plain": [
       "True"
      ]
     },
     "execution_count": 69,
     "metadata": {},
     "output_type": "execute_result"
    }
   ],
   "source": [
    "s.isdigit()"
   ]
  },
  {
   "cell_type": "code",
   "execution_count": 70,
   "id": "083d3262",
   "metadata": {},
   "outputs": [],
   "source": [
    "s=\"sudhs\""
   ]
  },
  {
   "cell_type": "code",
   "execution_count": 71,
   "id": "4167904b",
   "metadata": {},
   "outputs": [
    {
     "data": {
      "text/plain": [
       "True"
      ]
     },
     "execution_count": 71,
     "metadata": {},
     "output_type": "execute_result"
    }
   ],
   "source": [
    "s.endswith('s')"
   ]
  },
  {
   "cell_type": "code",
   "execution_count": 72,
   "id": "bf2e0e7a",
   "metadata": {},
   "outputs": [
    {
     "data": {
      "text/plain": [
       "False"
      ]
     },
     "execution_count": 72,
     "metadata": {},
     "output_type": "execute_result"
    }
   ],
   "source": [
    "s.startswith('a')"
   ]
  },
  {
   "cell_type": "code",
   "execution_count": 73,
   "id": "d6c16b11",
   "metadata": {},
   "outputs": [],
   "source": [
    "s=\"12345werty\"\n"
   ]
  },
  {
   "cell_type": "code",
   "execution_count": 74,
   "id": "18878981",
   "metadata": {},
   "outputs": [
    {
     "data": {
      "text/plain": [
       "True"
      ]
     },
     "execution_count": 74,
     "metadata": {},
     "output_type": "execute_result"
    }
   ],
   "source": [
    "s.isalnum()"
   ]
  },
  {
   "cell_type": "code",
   "execution_count": 75,
   "id": "390555c7",
   "metadata": {},
   "outputs": [
    {
     "data": {
      "text/plain": [
       "False"
      ]
     },
     "execution_count": 75,
     "metadata": {},
     "output_type": "execute_result"
    }
   ],
   "source": [
    "s.isalpha()"
   ]
  },
  {
   "cell_type": "code",
   "execution_count": 76,
   "id": "d42e91f7",
   "metadata": {},
   "outputs": [
    {
     "data": {
      "text/plain": [
       "False"
      ]
     },
     "execution_count": 76,
     "metadata": {},
     "output_type": "execute_result"
    }
   ],
   "source": [
    "s.istitle() #first char should be in uppercase"
   ]
  },
  {
   "cell_type": "code",
   "execution_count": 77,
   "id": "a5418930",
   "metadata": {},
   "outputs": [
    {
     "name": "stdout",
     "output_type": "stream",
     "text": [
      "w is not a vowel\n",
      "i is a vowel\n",
      "s is not a vowel\n",
      "d is not a vowel\n",
      "o is a vowel\n",
      "m is not a vowel\n"
     ]
    }
   ],
   "source": [
    "word=\"wisdom\"\n",
    "vowel=\"AaEeIiOoUu\"\n",
    "for i in word:\n",
    "    if i in vowel:\n",
    "        print(\"{} is a vowel\".format(i))\n",
    "        \n",
    "    else:\n",
    "        print(\"{} is not a vowel\".format(i))\n",
    "    "
   ]
  },
  {
   "cell_type": "code",
   "execution_count": 78,
   "id": "3652b79f",
   "metadata": {},
   "outputs": [
    {
     "name": "stdout",
     "output_type": "stream",
     "text": [
      "pratham\n",
      "bisht\n",
      "my name is pratham bisht\n"
     ]
    }
   ],
   "source": [
    "a=input()\n",
    "b=input()\n",
    "print(\"my name is {} {}\".format(a,b))\n"
   ]
  }
 ],
 "metadata": {
  "kernelspec": {
   "display_name": "Python 3 (ipykernel)",
   "language": "python",
   "name": "python3"
  },
  "language_info": {
   "codemirror_mode": {
    "name": "ipython",
    "version": 3
   },
   "file_extension": ".py",
   "mimetype": "text/x-python",
   "name": "python",
   "nbconvert_exporter": "python",
   "pygments_lexer": "ipython3",
   "version": "3.11.5"
  }
 },
 "nbformat": 4,
 "nbformat_minor": 5
}
