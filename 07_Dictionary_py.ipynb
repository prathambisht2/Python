{
 "cells": [
  {
   "cell_type": "markdown",
   "id": "b3466ae0",
   "metadata": {},
   "source": [
    "Note-:\n",
    "1.Dictionaries are used to store data values in key:value pairs\n",
    "2.They are unordered, mutable(changeable) & don’t allow duplicate keys\n",
    "3.\"key\":value"
   ]
  },
  {
   "cell_type": "code",
   "execution_count": 232,
   "id": "bd2a85df",
   "metadata": {},
   "outputs": [],
   "source": [
    "x1={}"
   ]
  },
  {
   "cell_type": "code",
   "execution_count": 233,
   "id": "f9cef990",
   "metadata": {},
   "outputs": [
    {
     "data": {
      "text/plain": [
       "dict"
      ]
     },
     "execution_count": 233,
     "metadata": {},
     "output_type": "execute_result"
    }
   ],
   "source": [
    "type(x1)"
   ]
  },
  {
   "cell_type": "code",
   "execution_count": 234,
   "id": "f1edb6a6",
   "metadata": {},
   "outputs": [],
   "source": [
    "x2={45,52}"
   ]
  },
  {
   "cell_type": "code",
   "execution_count": 235,
   "id": "5afa93dd",
   "metadata": {},
   "outputs": [
    {
     "data": {
      "text/plain": [
       "set"
      ]
     },
     "execution_count": 235,
     "metadata": {},
     "output_type": "execute_result"
    }
   ],
   "source": [
    "type(x2)"
   ]
  },
  {
   "cell_type": "code",
   "execution_count": 236,
   "id": "8da2dc38",
   "metadata": {},
   "outputs": [],
   "source": [
    "x={\"name\":\"Pratham\",\"age\":20} #\"key\":value pair"
   ]
  },
  {
   "cell_type": "code",
   "execution_count": 237,
   "id": "a839d651",
   "metadata": {},
   "outputs": [
    {
     "data": {
      "text/plain": [
       "dict"
      ]
     },
     "execution_count": 237,
     "metadata": {},
     "output_type": "execute_result"
    }
   ],
   "source": [
    "type(x)"
   ]
  },
  {
   "cell_type": "code",
   "execution_count": 238,
   "id": "fb43630d",
   "metadata": {},
   "outputs": [
    {
     "data": {
      "text/plain": [
       "{'name': 'Pratham', 'age': 20}"
      ]
     },
     "execution_count": 238,
     "metadata": {},
     "output_type": "execute_result"
    }
   ],
   "source": [
    "x"
   ]
  },
  {
   "cell_type": "code",
   "execution_count": 239,
   "id": "57967bc9",
   "metadata": {},
   "outputs": [
    {
     "ename": "SyntaxError",
     "evalue": "invalid syntax (550943982.py, line 1)",
     "output_type": "error",
     "traceback": [
      "\u001b[1;36m  Cell \u001b[1;32mIn[239], line 1\u001b[1;36m\u001b[0m\n\u001b[1;33m    x={\"name\":\"Pratham\",\"age\":20,\"name\":\"Shubham\",True:45,\"bool\":False,%:10}\u001b[0m\n\u001b[1;37m                                                                       ^\u001b[0m\n\u001b[1;31mSyntaxError\u001b[0m\u001b[1;31m:\u001b[0m invalid syntax\n"
     ]
    }
   ],
   "source": [
    "x={\"name\":\"Pratham\",\"age\":20,\"name\":\"Shubham\",True:45,\"bool\":False,%:10}"
   ]
  },
  {
   "cell_type": "code",
   "execution_count": 240,
   "id": "f811538e",
   "metadata": {},
   "outputs": [],
   "source": [
    "x1={\"name\":\"Pratham\",\"age\":20,\"name\":\"Shubham\",True:[1,2,3,4],\"bool\":False,348:(\"Pratham\",45,18)}"
   ]
  },
  {
   "cell_type": "code",
   "execution_count": 241,
   "id": "8cae5cc6",
   "metadata": {},
   "outputs": [
    {
     "data": {
      "text/plain": [
       "{'name': 'Shubham',\n",
       " 'age': 20,\n",
       " True: [1, 2, 3, 4],\n",
       " 'bool': False,\n",
       " 348: ('Pratham', 45, 18)}"
      ]
     },
     "execution_count": 241,
     "metadata": {},
     "output_type": "execute_result"
    }
   ],
   "source": [
    "x1"
   ]
  },
  {
   "cell_type": "code",
   "execution_count": 242,
   "id": "55edbe37",
   "metadata": {},
   "outputs": [],
   "source": [
    "x2={\"name\":{\"k1\":[10,20],\"k4\":[45,85]},\"age\":20,\"name2\":\"Shubham\",True:45,\"bool\":False,\"ab\":45}"
   ]
  },
  {
   "cell_type": "code",
   "execution_count": 243,
   "id": "7e845154",
   "metadata": {},
   "outputs": [
    {
     "data": {
      "text/plain": [
       "{'name': {'k1': [10, 20], 'k4': [45, 85]},\n",
       " 'age': 20,\n",
       " 'name2': 'Shubham',\n",
       " True: 45,\n",
       " 'bool': False,\n",
       " 'ab': 45}"
      ]
     },
     "execution_count": 243,
     "metadata": {},
     "output_type": "execute_result"
    }
   ],
   "source": [
    "x2"
   ]
  },
  {
   "cell_type": "code",
   "execution_count": 244,
   "id": "ebb31784",
   "metadata": {},
   "outputs": [
    {
     "ename": "TypeError",
     "evalue": "unhashable type: 'list'",
     "output_type": "error",
     "traceback": [
      "\u001b[1;31m---------------------------------------------------------------------------\u001b[0m",
      "\u001b[1;31mTypeError\u001b[0m                                 Traceback (most recent call last)",
      "Cell \u001b[1;32mIn[244], line 1\u001b[0m\n\u001b[1;32m----> 1\u001b[0m x3\u001b[38;5;241m=\u001b[39m{[\u001b[38;5;241m1\u001b[39m,\u001b[38;5;241m2\u001b[39m,\u001b[38;5;241m3\u001b[39m,\u001b[38;5;241m4\u001b[39m]:\u001b[38;5;124m\"\u001b[39m\u001b[38;5;124mPratham\u001b[39m\u001b[38;5;124m\"\u001b[39m,\u001b[38;5;124m\"\u001b[39m\u001b[38;5;124mage\u001b[39m\u001b[38;5;124m\"\u001b[39m:\u001b[38;5;241m20\u001b[39m}\n",
      "\u001b[1;31mTypeError\u001b[0m: unhashable type: 'list'"
     ]
    }
   ],
   "source": [
    "x3={[1,2,3,4]:\"Pratham\",\"age\":20} #list can't be a key"
   ]
  },
  {
   "cell_type": "code",
   "execution_count": 245,
   "id": "d94eddb9",
   "metadata": {},
   "outputs": [],
   "source": [
    "x={(1,2,3):\"Pratham\",\"age\":20} #tuple can be a list"
   ]
  },
  {
   "cell_type": "code",
   "execution_count": 246,
   "id": "1343afaf",
   "metadata": {},
   "outputs": [
    {
     "data": {
      "text/plain": [
       "{(1, 2, 3): 'Pratham', 'age': 20}"
      ]
     },
     "execution_count": 246,
     "metadata": {},
     "output_type": "execute_result"
    }
   ],
   "source": [
    "x"
   ]
  },
  {
   "cell_type": "code",
   "execution_count": 247,
   "id": "eee3b09d",
   "metadata": {},
   "outputs": [
    {
     "data": {
      "text/plain": [
       "False"
      ]
     },
     "execution_count": 247,
     "metadata": {},
     "output_type": "execute_result"
    }
   ],
   "source": [
    "x2[\"bool\"]"
   ]
  },
  {
   "cell_type": "code",
   "execution_count": 248,
   "id": "ee4a54c2",
   "metadata": {},
   "outputs": [
    {
     "data": {
      "text/plain": [
       "10"
      ]
     },
     "execution_count": 248,
     "metadata": {},
     "output_type": "execute_result"
    }
   ],
   "source": [
    "x2[\"name\"][\"k1\"][0]"
   ]
  },
  {
   "cell_type": "code",
   "execution_count": 249,
   "id": "e696e2fb",
   "metadata": {},
   "outputs": [
    {
     "ename": "TypeError",
     "evalue": "unsupported operand type(s) for +: 'dict' and 'dict'",
     "output_type": "error",
     "traceback": [
      "\u001b[1;31m---------------------------------------------------------------------------\u001b[0m",
      "\u001b[1;31mTypeError\u001b[0m                                 Traceback (most recent call last)",
      "Cell \u001b[1;32mIn[249], line 1\u001b[0m\n\u001b[1;32m----> 1\u001b[0m x1\u001b[38;5;241m+\u001b[39mx2\n",
      "\u001b[1;31mTypeError\u001b[0m: unsupported operand type(s) for +: 'dict' and 'dict'"
     ]
    }
   ],
   "source": [
    "x1+x2"
   ]
  },
  {
   "cell_type": "code",
   "execution_count": 250,
   "id": "34de024d",
   "metadata": {},
   "outputs": [
    {
     "ename": "TypeError",
     "evalue": "unsupported operand type(s) for *: 'dict' and 'int'",
     "output_type": "error",
     "traceback": [
      "\u001b[1;31m---------------------------------------------------------------------------\u001b[0m",
      "\u001b[1;31mTypeError\u001b[0m                                 Traceback (most recent call last)",
      "Cell \u001b[1;32mIn[250], line 1\u001b[0m\n\u001b[1;32m----> 1\u001b[0m x1\u001b[38;5;241m*\u001b[39m\u001b[38;5;241m2\u001b[39m\n",
      "\u001b[1;31mTypeError\u001b[0m: unsupported operand type(s) for *: 'dict' and 'int'"
     ]
    }
   ],
   "source": [
    "x1*2"
   ]
  },
  {
   "cell_type": "code",
   "execution_count": 251,
   "id": "68f1a8a1",
   "metadata": {},
   "outputs": [
    {
     "data": {
      "text/plain": [
       "{(1, 2, 3): 'Pratham', 'age': 20}"
      ]
     },
     "execution_count": 251,
     "metadata": {},
     "output_type": "execute_result"
    }
   ],
   "source": [
    "x"
   ]
  },
  {
   "cell_type": "code",
   "execution_count": 252,
   "id": "0aa784c8",
   "metadata": {},
   "outputs": [],
   "source": [
    "x[\"age\"]=\"sudh\""
   ]
  },
  {
   "cell_type": "code",
   "execution_count": 253,
   "id": "ea42f065",
   "metadata": {},
   "outputs": [
    {
     "data": {
      "text/plain": [
       "{(1, 2, 3): 'Pratham', 'age': 'sudh'}"
      ]
     },
     "execution_count": 253,
     "metadata": {},
     "output_type": "execute_result"
    }
   ],
   "source": [
    "x"
   ]
  },
  {
   "cell_type": "code",
   "execution_count": 254,
   "id": "f1e4d903",
   "metadata": {},
   "outputs": [],
   "source": [
    "x[\"age\"]=56"
   ]
  },
  {
   "cell_type": "code",
   "execution_count": 255,
   "id": "63b956f3",
   "metadata": {},
   "outputs": [
    {
     "data": {
      "text/plain": [
       "{(1, 2, 3): 'Pratham', 'age': 56}"
      ]
     },
     "execution_count": 255,
     "metadata": {},
     "output_type": "execute_result"
    }
   ],
   "source": [
    "x"
   ]
  },
  {
   "cell_type": "code",
   "execution_count": 256,
   "id": "f21e3d75",
   "metadata": {},
   "outputs": [],
   "source": [
    "x[\"age\"]-=20"
   ]
  },
  {
   "cell_type": "code",
   "execution_count": 257,
   "id": "a43c4fe7",
   "metadata": {},
   "outputs": [
    {
     "data": {
      "text/plain": [
       "{(1, 2, 3): 'Pratham', 'age': 36}"
      ]
     },
     "execution_count": 257,
     "metadata": {},
     "output_type": "execute_result"
    }
   ],
   "source": [
    "x"
   ]
  },
  {
   "cell_type": "code",
   "execution_count": 258,
   "id": "97ae677e",
   "metadata": {},
   "outputs": [
    {
     "data": {
      "text/plain": [
       "{'name': 'Shubham',\n",
       " 'age': 20,\n",
       " True: [1, 2, 3, 4],\n",
       " 'bool': False,\n",
       " 348: ('Pratham', 45, 18)}"
      ]
     },
     "execution_count": 258,
     "metadata": {},
     "output_type": "execute_result"
    }
   ],
   "source": [
    "x1"
   ]
  },
  {
   "cell_type": "code",
   "execution_count": 259,
   "id": "ca84de2b",
   "metadata": {},
   "outputs": [
    {
     "name": "stdout",
     "output_type": "stream",
     "text": [
      "dict_keys(['name', 'age', True, 'bool', 348])\n"
     ]
    }
   ],
   "source": [
    "print(x1.keys()) #a set-like object providing a view on D's keys"
   ]
  },
  {
   "cell_type": "code",
   "execution_count": 260,
   "id": "5f7075c2",
   "metadata": {},
   "outputs": [
    {
     "data": {
      "text/plain": [
       "True"
      ]
     },
     "execution_count": 260,
     "metadata": {},
     "output_type": "execute_result"
    }
   ],
   "source": [
    "\"age\" in x1.keys()"
   ]
  },
  {
   "cell_type": "code",
   "execution_count": 261,
   "id": "98b0bb21",
   "metadata": {},
   "outputs": [
    {
     "name": "stdout",
     "output_type": "stream",
     "text": [
      "name\n",
      "age\n",
      "True\n",
      "bool\n",
      "348\n"
     ]
    }
   ],
   "source": [
    "#will print all the keys\n",
    "for i in x1:\n",
    "    print(i)"
   ]
  },
  {
   "cell_type": "code",
   "execution_count": 262,
   "id": "74ecea8b",
   "metadata": {},
   "outputs": [
    {
     "data": {
      "text/plain": [
       "dict_values(['Shubham', 20, [1, 2, 3, 4], False, ('Pratham', 45, 18)])"
      ]
     },
     "execution_count": 262,
     "metadata": {},
     "output_type": "execute_result"
    }
   ],
   "source": [
    "x1.values() #an object providing a view on D's values"
   ]
  },
  {
   "cell_type": "code",
   "execution_count": 263,
   "id": "94a495cb",
   "metadata": {},
   "outputs": [
    {
     "name": "stdout",
     "output_type": "stream",
     "text": [
      "Shubham--> <class 'str'>\n",
      "20--> <class 'int'>\n",
      "[1, 2, 3, 4]--> <class 'list'>\n",
      "False--> <class 'bool'>\n",
      "('Pratham', 45, 18)--> <class 'tuple'>\n"
     ]
    }
   ],
   "source": [
    "#will print all the values and their type\n",
    "for i in x1.keys():\n",
    "    print(x1[i],type(x1[i]),sep=\"--> \")"
   ]
  },
  {
   "cell_type": "code",
   "execution_count": 264,
   "id": "64017508",
   "metadata": {},
   "outputs": [
    {
     "data": {
      "text/plain": [
       "dict_items([('name', 'Shubham'), ('age', 20), (True, [1, 2, 3, 4]), ('bool', False), (348, ('Pratham', 45, 18))])"
      ]
     },
     "execution_count": 264,
     "metadata": {},
     "output_type": "execute_result"
    }
   ],
   "source": [
    "x1.items() #print keys and value in tuple"
   ]
  },
  {
   "cell_type": "code",
   "execution_count": 265,
   "id": "79907693",
   "metadata": {},
   "outputs": [
    {
     "name": "stdout",
     "output_type": "stream",
     "text": [
      "name\n",
      "age\n",
      "True\n",
      "bool\n",
      "348\n"
     ]
    }
   ],
   "source": [
    "for i in x1.items():\n",
    "    print(i[0])"
   ]
  },
  {
   "cell_type": "code",
   "execution_count": 266,
   "id": "09bbfba2",
   "metadata": {},
   "outputs": [
    {
     "data": {
      "text/plain": [
       "5"
      ]
     },
     "execution_count": 266,
     "metadata": {},
     "output_type": "execute_result"
    }
   ],
   "source": [
    "len(x1) #Return the number of items(key:value pairs) in a container.\n"
   ]
  },
  {
   "cell_type": "code",
   "execution_count": 269,
   "id": "15462b75",
   "metadata": {},
   "outputs": [
    {
     "name": "stdout",
     "output_type": "stream",
     "text": [
      "enter a paragraph: Length and appearance do not determine whether a section in a paper is a paragraph. For instance, in some styles of writing, particularly journalistic styles, a paragraph can be just one sentence long\n",
      "['Length', 'and', 'appearance', 'do', 'not', 'determine', 'whether', 'a', 'section', 'in', 'a', 'paper', 'is', 'a', 'paragraph.', 'For', 'instance,', 'in', 'some', 'styles', 'of', 'writing,', 'particularly', 'journalistic', 'styles,', 'a', 'paragraph', 'can', 'be', 'just', 'one', 'sentence', 'long']\n"
     ]
    }
   ],
   "source": [
    "#Q1.\n",
    "str1=input(\"enter a paragraph: \")\n",
    "print(str1.split())"
   ]
  },
  {
   "cell_type": "code",
   "execution_count": 270,
   "id": "f03ff839",
   "metadata": {},
   "outputs": [
    {
     "name": "stdout",
     "output_type": "stream",
     "text": [
      "{(1, 2, 3), 'age'}\n"
     ]
    }
   ],
   "source": [
    "#Q2\n",
    "s=set(x)\n",
    "print(s)"
   ]
  },
  {
   "cell_type": "code",
   "execution_count": 271,
   "id": "d8866398",
   "metadata": {},
   "outputs": [
    {
     "name": "stdout",
     "output_type": "stream",
     "text": [
      "{(1, 2, 3): 'Pratham', 'age': 'Pratham'}\n"
     ]
    }
   ],
   "source": [
    "#Q3\n",
    "'''\n",
    "dict1={}\n",
    "for i in s:\n",
    "    dict1[i]=\"Pratham\"\n",
    "print(dict1)\n",
    "'''\n",
    "print(dict1.fromkeys(s,\"Pratham\")) #Create a new dictionary with keys from iterable and values set to value."
   ]
  },
  {
   "cell_type": "code",
   "execution_count": 272,
   "id": "16a1ccb4",
   "metadata": {},
   "outputs": [
    {
     "name": "stdout",
     "output_type": "stream",
     "text": [
      "('Pratham', 'Pratham', 'Pratham', 'Pratham', 'Pratham', 'Pratham', 'Pratham', 'Pratham', 'Pratham', 'Pratham', 'Pratham', 'Pratham', 'Pratham', 'Pratham', 'Pratham', 'Pratham', 'Pratham', 'Pratham', 'Pratham', 'Pratham', 'Pratham', 'Pratham', 'Pratham', 'Pratham', 'Pratham', 'Pratham', 'Pratham', 'Pratham', 'Pratham')\n"
     ]
    }
   ],
   "source": [
    "#Q4\n",
    "'''\n",
    "l=[]\n",
    "for i in dict1.values():\n",
    "    l.append(i)\n",
    "t=tuple(l)\n",
    "print(t)\n",
    "'''\n",
    "t1=tuple(dict1.values())\n",
    "print(t1)"
   ]
  },
  {
   "cell_type": "code",
   "execution_count": 273,
   "id": "a0f2df9d",
   "metadata": {},
   "outputs": [
    {
     "name": "stdout",
     "output_type": "stream",
     "text": [
      "['For', 'some', 'paragraph', 'one', 'can', 'in', 'do', 'writing,', 'and', 'whether', 'section', 'appearance', 'is', 'just', 'Length', 'a', 'styles,', 'long.', 'not', 'styles', 'sentence', 'particularly', 'paragraph.', 'instance,', 'paper', 'be', 'journalistic', 'determine', 'of']\n"
     ]
    }
   ],
   "source": [
    "#Q5\n",
    "'''\n",
    "l=[]\n",
    "for i in dict1:\n",
    "    l.append(i)\n",
    "print(l)  \n",
    "'''\n",
    "l=list(dict1.keys())\n",
    "print(l)"
   ]
  },
  {
   "cell_type": "code",
   "execution_count": 274,
   "id": "7728a916",
   "metadata": {},
   "outputs": [],
   "source": [
    "d={\"name\":\"Pratham\",\"year\":2024}"
   ]
  },
  {
   "cell_type": "code",
   "execution_count": 275,
   "id": "a2e9ab72",
   "metadata": {},
   "outputs": [
    {
     "data": {
      "text/plain": [
       "{'name': 'Pratham', 'year': 2024}"
      ]
     },
     "execution_count": 275,
     "metadata": {},
     "output_type": "execute_result"
    }
   ],
   "source": [
    "d"
   ]
  },
  {
   "cell_type": "code",
   "execution_count": 279,
   "id": "d6b6e798",
   "metadata": {},
   "outputs": [
    {
     "name": "stdout",
     "output_type": "stream",
     "text": [
      "its fine\n"
     ]
    }
   ],
   "source": [
    "for i in d:\n",
    "    if i==\"year\":\n",
    "        if d[i]>2024:\n",
    "            print(\"its fine\")\n",
    "        else:\n",
    "            d[i]=2025"
   ]
  },
  {
   "cell_type": "code",
   "execution_count": 280,
   "id": "f072691a",
   "metadata": {},
   "outputs": [
    {
     "data": {
      "text/plain": [
       "{'name': 'Pratham', 'year': 2025}"
      ]
     },
     "execution_count": 280,
     "metadata": {},
     "output_type": "execute_result"
    }
   ],
   "source": [
    "d"
   ]
  }
 ],
 "metadata": {
  "kernelspec": {
   "display_name": "Python 3 (ipykernel)",
   "language": "python",
   "name": "python3"
  },
  "language_info": {
   "codemirror_mode": {
    "name": "ipython",
    "version": 3
   },
   "file_extension": ".py",
   "mimetype": "text/x-python",
   "name": "python",
   "nbconvert_exporter": "python",
   "pygments_lexer": "ipython3",
   "version": "3.11.5"
  }
 },
 "nbformat": 4,
 "nbformat_minor": 5
}
