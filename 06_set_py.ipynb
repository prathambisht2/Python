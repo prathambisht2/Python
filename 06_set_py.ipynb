{
 "cells": [
  {
   "cell_type": "markdown",
   "id": "8399d61f",
   "metadata": {},
   "source": [
    "Note-:\n",
    "1.Set is a collection which always try to hold a distinct element inside it\n",
    "2.Build an unordered collection of unique elements"
   ]
  },
  {
   "cell_type": "code",
   "execution_count": 51,
   "id": "d50bd934",
   "metadata": {},
   "outputs": [],
   "source": [
    "x=set()"
   ]
  },
  {
   "cell_type": "code",
   "execution_count": 52,
   "id": "90b86ec3",
   "metadata": {},
   "outputs": [
    {
     "data": {
      "text/plain": [
       "set"
      ]
     },
     "execution_count": 52,
     "metadata": {},
     "output_type": "execute_result"
    }
   ],
   "source": [
    "type(x)"
   ]
  },
  {
   "cell_type": "code",
   "execution_count": 53,
   "id": "80f15968",
   "metadata": {},
   "outputs": [],
   "source": [
    "l=[34,45,45,45,67,34,56,78,\"pratham\",\"Pratham\",\"bisht\"]"
   ]
  },
  {
   "cell_type": "code",
   "execution_count": 54,
   "id": "34cf31b5",
   "metadata": {},
   "outputs": [],
   "source": [
    "s=set(l) "
   ]
  },
  {
   "cell_type": "code",
   "execution_count": 55,
   "id": "975e0b5c",
   "metadata": {},
   "outputs": [
    {
     "data": {
      "text/plain": [
       "{34, 45, 56, 67, 78, 'Pratham', 'bisht', 'pratham'}"
      ]
     },
     "execution_count": 55,
     "metadata": {},
     "output_type": "execute_result"
    }
   ],
   "source": [
    "s"
   ]
  },
  {
   "cell_type": "code",
   "execution_count": 56,
   "id": "878b1818",
   "metadata": {},
   "outputs": [
    {
     "name": "stdout",
     "output_type": "stream",
     "text": [
      "34\n",
      "67\n",
      "pratham\n",
      "bisht\n",
      "45\n",
      "78\n",
      "Pratham\n",
      "56\n"
     ]
    }
   ],
   "source": [
    "#set is an unordered collection\n",
    "for i in s:\n",
    "    print(i)"
   ]
  },
  {
   "cell_type": "code",
   "execution_count": 57,
   "id": "b49081ae",
   "metadata": {},
   "outputs": [
    {
     "data": {
      "text/plain": [
       "True"
      ]
     },
     "execution_count": 57,
     "metadata": {},
     "output_type": "execute_result"
    }
   ],
   "source": [
    "67 in s"
   ]
  },
  {
   "cell_type": "code",
   "execution_count": 58,
   "id": "a7b61ee6",
   "metadata": {},
   "outputs": [
    {
     "ename": "TypeError",
     "evalue": "'set' object is not subscriptable",
     "output_type": "error",
     "traceback": [
      "\u001b[1;31m---------------------------------------------------------------------------\u001b[0m",
      "\u001b[1;31mTypeError\u001b[0m                                 Traceback (most recent call last)",
      "Cell \u001b[1;32mIn[58], line 1\u001b[0m\n\u001b[1;32m----> 1\u001b[0m s[\u001b[38;5;241m0\u001b[39m]\n",
      "\u001b[1;31mTypeError\u001b[0m: 'set' object is not subscriptable"
     ]
    }
   ],
   "source": [
    "s[0] #set does not support indexing"
   ]
  },
  {
   "cell_type": "code",
   "execution_count": 59,
   "id": "de3f35d6",
   "metadata": {},
   "outputs": [],
   "source": [
    "s=set()"
   ]
  },
  {
   "cell_type": "code",
   "execution_count": 60,
   "id": "ca222298",
   "metadata": {},
   "outputs": [],
   "source": [
    "s.add(45) #Add an element to a set.This has no effect if the element is already present"
   ]
  },
  {
   "cell_type": "code",
   "execution_count": 61,
   "id": "17d8f66a",
   "metadata": {},
   "outputs": [
    {
     "data": {
      "text/plain": [
       "{45}"
      ]
     },
     "execution_count": 61,
     "metadata": {},
     "output_type": "execute_result"
    }
   ],
   "source": [
    "s"
   ]
  },
  {
   "cell_type": "code",
   "execution_count": 62,
   "id": "4b571355",
   "metadata": {},
   "outputs": [],
   "source": [
    "s.add(\"pratham\")"
   ]
  },
  {
   "cell_type": "code",
   "execution_count": 63,
   "id": "58d6b90c",
   "metadata": {},
   "outputs": [
    {
     "data": {
      "text/plain": [
       "{45, 'pratham'}"
      ]
     },
     "execution_count": 63,
     "metadata": {},
     "output_type": "execute_result"
    }
   ],
   "source": [
    "s"
   ]
  },
  {
   "cell_type": "code",
   "execution_count": 64,
   "id": "d3916cb8",
   "metadata": {},
   "outputs": [],
   "source": [
    "s.add(12.51)"
   ]
  },
  {
   "cell_type": "code",
   "execution_count": 65,
   "id": "c20044c5",
   "metadata": {},
   "outputs": [
    {
     "data": {
      "text/plain": [
       "{12.51, 45, 'pratham'}"
      ]
     },
     "execution_count": 65,
     "metadata": {},
     "output_type": "execute_result"
    }
   ],
   "source": [
    "s"
   ]
  },
  {
   "cell_type": "code",
   "execution_count": 66,
   "id": "4be702ff",
   "metadata": {},
   "outputs": [],
   "source": [
    "t5={1,5}"
   ]
  },
  {
   "cell_type": "code",
   "execution_count": 67,
   "id": "00aab498",
   "metadata": {},
   "outputs": [
    {
     "data": {
      "text/plain": [
       "set"
      ]
     },
     "execution_count": 67,
     "metadata": {},
     "output_type": "execute_result"
    }
   ],
   "source": [
    "type(t5)"
   ]
  },
  {
   "cell_type": "code",
   "execution_count": 68,
   "id": "97aa8289",
   "metadata": {},
   "outputs": [
    {
     "ename": "TypeError",
     "evalue": "unhashable type: 'list'",
     "output_type": "error",
     "traceback": [
      "\u001b[1;31m---------------------------------------------------------------------------\u001b[0m",
      "\u001b[1;31mTypeError\u001b[0m                                 Traceback (most recent call last)",
      "Cell \u001b[1;32mIn[68], line 1\u001b[0m\n\u001b[1;32m----> 1\u001b[0m s\u001b[38;5;241m.\u001b[39madd([\u001b[38;5;241m10\u001b[39m,\u001b[38;5;241m20\u001b[39m])\n",
      "\u001b[1;31mTypeError\u001b[0m: unhashable type: 'list'"
     ]
    }
   ],
   "source": [
    "s.add([10,20])"
   ]
  },
  {
   "cell_type": "code",
   "execution_count": 69,
   "id": "e2196259",
   "metadata": {},
   "outputs": [],
   "source": [
    "s.remove(45) #Remove an element from a set; it must be a member.If the element is not a member, raise a KeyError."
   ]
  },
  {
   "cell_type": "code",
   "execution_count": 70,
   "id": "552afd8e",
   "metadata": {},
   "outputs": [
    {
     "data": {
      "text/plain": [
       "{12.51, 'pratham'}"
      ]
     },
     "execution_count": 70,
     "metadata": {},
     "output_type": "execute_result"
    }
   ],
   "source": [
    "s"
   ]
  },
  {
   "cell_type": "code",
   "execution_count": 71,
   "id": "2e1819f4",
   "metadata": {},
   "outputs": [],
   "source": [
    "s.clear() #Remove all elements from this set."
   ]
  },
  {
   "cell_type": "code",
   "execution_count": 72,
   "id": "1175f06a",
   "metadata": {},
   "outputs": [
    {
     "data": {
      "text/plain": [
       "set()"
      ]
     },
     "execution_count": 72,
     "metadata": {},
     "output_type": "execute_result"
    }
   ],
   "source": [
    "s"
   ]
  },
  {
   "cell_type": "code",
   "execution_count": 77,
   "id": "75ce65a9",
   "metadata": {},
   "outputs": [],
   "source": [
    "s1={34, 45, 56, 67, 78, 'Pratham', 'bisht', 'pratham'}"
   ]
  },
  {
   "cell_type": "code",
   "execution_count": 79,
   "id": "7fba36b8",
   "metadata": {},
   "outputs": [
    {
     "data": {
      "text/plain": [
       "{34, 45, 56, 67, 78, 'Pratham', 'bisht', 'pratham'}"
      ]
     },
     "execution_count": 79,
     "metadata": {},
     "output_type": "execute_result"
    }
   ],
   "source": [
    "s1"
   ]
  },
  {
   "cell_type": "code",
   "execution_count": 78,
   "id": "21c9d7f9",
   "metadata": {},
   "outputs": [],
   "source": [
    "s2={2,54,66,21,29,37}"
   ]
  },
  {
   "cell_type": "code",
   "execution_count": 80,
   "id": "5d35ce68",
   "metadata": {},
   "outputs": [
    {
     "data": {
      "text/plain": [
       "{2, 21, 29, 37, 54, 66}"
      ]
     },
     "execution_count": 80,
     "metadata": {},
     "output_type": "execute_result"
    }
   ],
   "source": [
    "s2"
   ]
  },
  {
   "cell_type": "code",
   "execution_count": 82,
   "id": "5f935d87",
   "metadata": {},
   "outputs": [
    {
     "ename": "TypeError",
     "evalue": "unsupported operand type(s) for *: 'set' and 'int'",
     "output_type": "error",
     "traceback": [
      "\u001b[1;31m---------------------------------------------------------------------------\u001b[0m",
      "\u001b[1;31mTypeError\u001b[0m                                 Traceback (most recent call last)",
      "Cell \u001b[1;32mIn[82], line 1\u001b[0m\n\u001b[1;32m----> 1\u001b[0m s1\u001b[38;5;241m*\u001b[39m\u001b[38;5;241m4\u001b[39m\n",
      "\u001b[1;31mTypeError\u001b[0m: unsupported operand type(s) for *: 'set' and 'int'"
     ]
    }
   ],
   "source": [
    "s1*4"
   ]
  },
  {
   "cell_type": "code",
   "execution_count": 84,
   "id": "84b6162d",
   "metadata": {},
   "outputs": [
    {
     "ename": "TypeError",
     "evalue": "unsupported operand type(s) for *: 'set' and 'set'",
     "output_type": "error",
     "traceback": [
      "\u001b[1;31m---------------------------------------------------------------------------\u001b[0m",
      "\u001b[1;31mTypeError\u001b[0m                                 Traceback (most recent call last)",
      "Cell \u001b[1;32mIn[84], line 1\u001b[0m\n\u001b[1;32m----> 1\u001b[0m s1\u001b[38;5;241m*\u001b[39ms2\n",
      "\u001b[1;31mTypeError\u001b[0m: unsupported operand type(s) for *: 'set' and 'set'"
     ]
    }
   ],
   "source": [
    "s1*s2"
   ]
  },
  {
   "cell_type": "code",
   "execution_count": 85,
   "id": "bae36691",
   "metadata": {},
   "outputs": [],
   "source": [
    "l1=list(s1)"
   ]
  },
  {
   "cell_type": "code",
   "execution_count": 86,
   "id": "90ef5f89",
   "metadata": {},
   "outputs": [
    {
     "data": {
      "text/plain": [
       "['pratham', 67, 34, 'bisht', 45, 78, 'Pratham', 56]"
      ]
     },
     "execution_count": 86,
     "metadata": {},
     "output_type": "execute_result"
    }
   ],
   "source": [
    "l1"
   ]
  },
  {
   "cell_type": "code",
   "execution_count": 87,
   "id": "06a08deb",
   "metadata": {},
   "outputs": [],
   "source": [
    "l1.append(88)"
   ]
  },
  {
   "cell_type": "code",
   "execution_count": 88,
   "id": "1ee63d8e",
   "metadata": {},
   "outputs": [
    {
     "data": {
      "text/plain": [
       "['pratham', 67, 34, 'bisht', 45, 78, 'Pratham', 56, 88]"
      ]
     },
     "execution_count": 88,
     "metadata": {},
     "output_type": "execute_result"
    }
   ],
   "source": [
    "l1"
   ]
  },
  {
   "cell_type": "code",
   "execution_count": 91,
   "id": "1aa88029",
   "metadata": {},
   "outputs": [
    {
     "data": {
      "text/plain": [
       "{34, 45, 56, 67, 78, 88, 'Pratham', 'bisht', 'pratham'}"
      ]
     },
     "execution_count": 91,
     "metadata": {},
     "output_type": "execute_result"
    }
   ],
   "source": [
    "set(l1)"
   ]
  },
  {
   "cell_type": "code",
   "execution_count": 89,
   "id": "87b57a8a",
   "metadata": {},
   "outputs": [],
   "source": [
    "t1=tuple(s1)"
   ]
  },
  {
   "cell_type": "code",
   "execution_count": 90,
   "id": "d8a43f86",
   "metadata": {},
   "outputs": [
    {
     "data": {
      "text/plain": [
       "('pratham', 67, 34, 'bisht', 45, 78, 'Pratham', 56)"
      ]
     },
     "execution_count": 90,
     "metadata": {},
     "output_type": "execute_result"
    }
   ],
   "source": [
    "t1"
   ]
  },
  {
   "cell_type": "code",
   "execution_count": 92,
   "id": "50256118",
   "metadata": {},
   "outputs": [
    {
     "data": {
      "text/plain": [
       "{34, 45, 56, 67, 78, 'Pratham', 'bisht', 'pratham'}"
      ]
     },
     "execution_count": 92,
     "metadata": {},
     "output_type": "execute_result"
    }
   ],
   "source": [
    "s1"
   ]
  },
  {
   "cell_type": "code",
   "execution_count": 95,
   "id": "d7c2083b",
   "metadata": {},
   "outputs": [
    {
     "data": {
      "text/plain": [
       "{2, 21, 29, 37, 54, 66}"
      ]
     },
     "execution_count": 95,
     "metadata": {},
     "output_type": "execute_result"
    }
   ],
   "source": [
    "s2"
   ]
  },
  {
   "cell_type": "code",
   "execution_count": 93,
   "id": "640b3562",
   "metadata": {},
   "outputs": [
    {
     "data": {
      "text/plain": [
       "{2, 21, 29, 34, 37, 45, 54, 56, 66, 67, 78, 'Pratham', 'bisht', 'pratham'}"
      ]
     },
     "execution_count": 93,
     "metadata": {},
     "output_type": "execute_result"
    }
   ],
   "source": [
    "s1.union(s2) #Return the union of sets as a new set."
   ]
  },
  {
   "cell_type": "code",
   "execution_count": 96,
   "id": "83620f64",
   "metadata": {},
   "outputs": [
    {
     "data": {
      "text/plain": [
       "set()"
      ]
     },
     "execution_count": 96,
     "metadata": {},
     "output_type": "execute_result"
    }
   ],
   "source": [
    "s1.intersection(s2) #Return the intersection of two sets as a new set."
   ]
  }
 ],
 "metadata": {
  "kernelspec": {
   "display_name": "Python 3 (ipykernel)",
   "language": "python",
   "name": "python3"
  },
  "language_info": {
   "codemirror_mode": {
    "name": "ipython",
    "version": 3
   },
   "file_extension": ".py",
   "mimetype": "text/x-python",
   "name": "python",
   "nbconvert_exporter": "python",
   "pygments_lexer": "ipython3",
   "version": "3.11.5"
  }
 },
 "nbformat": 4,
 "nbformat_minor": 5
}
