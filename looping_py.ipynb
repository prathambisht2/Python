{
 "cells": [
  {
   "cell_type": "code",
   "execution_count": 1,
   "id": "51ca8710",
   "metadata": {},
   "outputs": [
    {
     "name": "stdout",
     "output_type": "stream",
     "text": [
      "1\n",
      "2\n",
      "3\n",
      "4\n",
      "done\n"
     ]
    }
   ],
   "source": [
    "# while-else condition only exists in python\n",
    "note=5\n",
    "i=1\n",
    "while(i<note):\n",
    "    print(i)\n",
    "    i+=1\n",
    "else:\n",
    "    print(\"done\")"
   ]
  },
  {
   "cell_type": "code",
   "execution_count": 2,
   "id": "5ebfcc27",
   "metadata": {},
   "outputs": [],
   "source": [
    "a=\"pratham\""
   ]
  },
  {
   "cell_type": "code",
   "execution_count": 3,
   "id": "440e7e64",
   "metadata": {},
   "outputs": [
    {
     "data": {
      "text/plain": [
       "'pratham'"
      ]
     },
     "execution_count": 3,
     "metadata": {},
     "output_type": "execute_result"
    }
   ],
   "source": [
    "a"
   ]
  },
  {
   "cell_type": "code",
   "execution_count": 4,
   "id": "7302c63c",
   "metadata": {},
   "outputs": [
    {
     "data": {
      "text/plain": [
       "str"
      ]
     },
     "execution_count": 4,
     "metadata": {},
     "output_type": "execute_result"
    }
   ],
   "source": [
    "type(a)"
   ]
  },
  {
   "cell_type": "code",
   "execution_count": 5,
   "id": "06f5b5a3",
   "metadata": {},
   "outputs": [
    {
     "data": {
      "text/plain": [
       "'r'"
      ]
     },
     "execution_count": 5,
     "metadata": {},
     "output_type": "execute_result"
    }
   ],
   "source": [
    "a[1]"
   ]
  },
  {
   "cell_type": "code",
   "execution_count": 6,
   "id": "9b44961a",
   "metadata": {},
   "outputs": [
    {
     "data": {
      "text/plain": [
       "7"
      ]
     },
     "execution_count": 6,
     "metadata": {},
     "output_type": "execute_result"
    }
   ],
   "source": [
    "len(a)"
   ]
  },
  {
   "cell_type": "code",
   "execution_count": 7,
   "id": "6326c586",
   "metadata": {},
   "outputs": [],
   "source": [
    "name=\"my name is pratham\""
   ]
  },
  {
   "cell_type": "code",
   "execution_count": 8,
   "id": "d865b8ce",
   "metadata": {},
   "outputs": [
    {
     "data": {
      "text/plain": [
       "'my name is pratham'"
      ]
     },
     "execution_count": 8,
     "metadata": {},
     "output_type": "execute_result"
    }
   ],
   "source": [
    "name"
   ]
  },
  {
   "cell_type": "code",
   "execution_count": 9,
   "id": "23a3c2f9",
   "metadata": {},
   "outputs": [
    {
     "data": {
      "text/plain": [
       "'name is p'"
      ]
     },
     "execution_count": 9,
     "metadata": {},
     "output_type": "execute_result"
    }
   ],
   "source": [
    "name[3:12]"
   ]
  },
  {
   "cell_type": "code",
   "execution_count": 10,
   "id": "eaed8f14",
   "metadata": {},
   "outputs": [
    {
     "data": {
      "text/plain": [
       "'arp si eman'"
      ]
     },
     "execution_count": 10,
     "metadata": {},
     "output_type": "execute_result"
    }
   ],
   "source": [
    "name[13:2:-1]"
   ]
  },
  {
   "cell_type": "code",
   "execution_count": 11,
   "id": "9cbe3f31",
   "metadata": {},
   "outputs": [
    {
     "data": {
      "text/plain": [
       "'mahtarp si eman ym'"
      ]
     },
     "execution_count": 11,
     "metadata": {},
     "output_type": "execute_result"
    }
   ],
   "source": [
    "name[::-1] #string reversal"
   ]
  },
  {
   "cell_type": "code",
   "execution_count": 12,
   "id": "f972af7c",
   "metadata": {},
   "outputs": [
    {
     "data": {
      "text/plain": [
       "' name is p'"
      ]
     },
     "execution_count": 12,
     "metadata": {},
     "output_type": "execute_result"
    }
   ],
   "source": [
    "name[2:-6]"
   ]
  },
  {
   "cell_type": "code",
   "execution_count": 13,
   "id": "b88babad",
   "metadata": {},
   "outputs": [
    {
     "name": "stdout",
     "output_type": "stream",
     "text": [
      "m\n",
      "y\n",
      " \n",
      "n\n",
      "a\n",
      "m\n",
      "e\n",
      " \n",
      "i\n",
      "s\n",
      " \n",
      "p\n",
      "r\n",
      "a\n",
      "t\n",
      "h\n",
      "a\n",
      "m\n"
     ]
    }
   ],
   "source": [
    "for i in name:\n",
    "    print(i)"
   ]
  },
  {
   "cell_type": "code",
   "execution_count": 14,
   "id": "bb097907",
   "metadata": {},
   "outputs": [
    {
     "name": "stdout",
     "output_type": "stream",
     "text": [
      "m\n",
      "y\n",
      " \n"
     ]
    }
   ],
   "source": [
    "for i in name:\n",
    "    if (i=='n'):\n",
    "        break\n",
    "    print(i)\n"
   ]
  },
  {
   "cell_type": "code",
   "execution_count": 15,
   "id": "44749e9e",
   "metadata": {},
   "outputs": [
    {
     "name": "stdout",
     "output_type": "stream",
     "text": [
      "m\n",
      "y\n",
      " \n",
      "a\n",
      "m\n",
      "e\n",
      " \n",
      "i\n",
      "s\n",
      " \n",
      "p\n",
      "r\n",
      "a\n",
      "t\n",
      "h\n",
      "a\n",
      "m\n"
     ]
    }
   ],
   "source": [
    "for i in name:\n",
    "    if (i=='n'):\n",
    "        continue #it will skip 'n' and will redirect to loop from next point ie 'a' in above case\n",
    "    print(i)\n"
   ]
  },
  {
   "cell_type": "code",
   "execution_count": 16,
   "id": "7915a161",
   "metadata": {},
   "outputs": [
    {
     "name": "stdout",
     "output_type": "stream",
     "text": [
      "+ \r\n",
      "+ + \r\n",
      "+ + + \r\n",
      "+ + + + \r\n",
      "+ + + + + \r\n",
      "+ + + + + + \r\n",
      "+ + + + + + + \r\n"
     ]
    }
   ],
   "source": [
    "n=7\n",
    "for i in range (0,n):\n",
    "    for j in range (0,i+1):\n",
    "        print(\"+ \",end=\"\")\n",
    "    print(\"\\r\") #or print(\"\")"
   ]
  },
  {
   "cell_type": "code",
   "execution_count": 17,
   "id": "fd4b0dd9",
   "metadata": {},
   "outputs": [
    {
     "name": "stdout",
     "output_type": "stream",
     "text": [
      "    *\n",
      "   ***\n",
      "  *****\n",
      " *******\n",
      "*********\n"
     ]
    }
   ],
   "source": [
    "n=5\n",
    "cst=1\n",
    "csp=n-1\n",
    "for i in range(1,n+1):\n",
    "    for j in range(n-i):\n",
    "        print(\" \",end='')\n",
    "    for j in range(2*i-1):\n",
    "        print(\"*\",end='')\n",
    "    print()\n"
   ]
  },
  {
   "cell_type": "code",
   "execution_count": 18,
   "id": "5e08bcb9",
   "metadata": {},
   "outputs": [
    {
     "name": "stdout",
     "output_type": "stream",
     "text": [
      "*********\n",
      " *******\n",
      "  *****\n",
      "   ***\n",
      "    *\n"
     ]
    }
   ],
   "source": [
    "n=5\n",
    "row=1\n",
    "tst=2*n-1\n",
    "tsp=0\n",
    "while(row<=n):\n",
    "    csp=0\n",
    "    while(csp<tsp):\n",
    "        print(' ',end=\"\")\n",
    "        csp+=1\n",
    "        \n",
    "    \n",
    "    cst=0\n",
    "    while(cst<tst):\n",
    "        print(\"*\",end=\"\")\n",
    "        cst+=1\n",
    "    print()\n",
    "    tst-=2\n",
    "    tsp+=1\n",
    "    row+=1\n",
    "    "
   ]
  },
  {
   "cell_type": "markdown",
   "id": "e9b4cfba",
   "metadata": {},
   "source": [
    "NOTE-:\n",
    "1.List is mutable object hence it support item assignment"
   ]
  },
  {
   "cell_type": "code",
   "execution_count": 19,
   "id": "67161c97",
   "metadata": {},
   "outputs": [],
   "source": [
    "l1=[20,\"pratham\",6+45j,45.5,[3,4,\"asdc\"],True]"
   ]
  },
  {
   "cell_type": "code",
   "execution_count": 20,
   "id": "4831184a",
   "metadata": {},
   "outputs": [
    {
     "data": {
      "text/plain": [
       "[20, 'pratham', (6+45j), 45.5]"
      ]
     },
     "execution_count": 20,
     "metadata": {},
     "output_type": "execute_result"
    }
   ],
   "source": [
    "l1[0:4]"
   ]
  },
  {
   "cell_type": "code",
   "execution_count": 21,
   "id": "ab135871",
   "metadata": {},
   "outputs": [
    {
     "data": {
      "text/plain": [
       "[20, 'pratham', (6+45j), 45.5, [3, 4, 'asdc'], True]"
      ]
     },
     "execution_count": 21,
     "metadata": {},
     "output_type": "execute_result"
    }
   ],
   "source": [
    "l1"
   ]
  },
  {
   "cell_type": "code",
   "execution_count": 22,
   "id": "a33db5df",
   "metadata": {
    "scrolled": true
   },
   "outputs": [
    {
     "data": {
      "text/plain": [
       "list"
      ]
     },
     "execution_count": 22,
     "metadata": {},
     "output_type": "execute_result"
    }
   ],
   "source": [
    "type(l1)"
   ]
  },
  {
   "cell_type": "code",
   "execution_count": 23,
   "id": "edb7607a",
   "metadata": {},
   "outputs": [
    {
     "data": {
      "text/plain": [
       "6"
      ]
     },
     "execution_count": 23,
     "metadata": {},
     "output_type": "execute_result"
    }
   ],
   "source": [
    "len(l1)"
   ]
  },
  {
   "cell_type": "code",
   "execution_count": 24,
   "id": "4cb374cb",
   "metadata": {},
   "outputs": [
    {
     "name": "stdout",
     "output_type": "stream",
     "text": [
      "20\t<class 'int'>\n",
      "pratham\t<class 'str'>\n",
      "(6+45j)\t<class 'complex'>\n",
      "45.5\t<class 'float'>\n",
      "[3, 4, 'asdc']\t<class 'list'>\n",
      "True\t<class 'bool'>\n"
     ]
    }
   ],
   "source": [
    "for i in l1:\n",
    "    print(i,type(i),sep=\"\\t\")"
   ]
  },
  {
   "cell_type": "code",
   "execution_count": 25,
   "id": "4f7c8b2e",
   "metadata": {},
   "outputs": [
    {
     "name": "stdout",
     "output_type": "stream",
     "text": [
      "asdc\n"
     ]
    }
   ],
   "source": [
    "for i in l1:\n",
    "    if type(i)==list:\n",
    "        for j in i:\n",
    "            if type(j)==int:\n",
    "                continue\n",
    "            print(j)"
   ]
  },
  {
   "cell_type": "code",
   "execution_count": 26,
   "id": "6e783900",
   "metadata": {},
   "outputs": [
    {
     "data": {
      "text/plain": [
       "range(0, 5)"
      ]
     },
     "execution_count": 26,
     "metadata": {},
     "output_type": "execute_result"
    }
   ],
   "source": [
    "range(5)"
   ]
  },
  {
   "cell_type": "code",
   "execution_count": 27,
   "id": "a20f5874",
   "metadata": {},
   "outputs": [
    {
     "data": {
      "text/plain": [
       "[7, 6, 5, 4, 3]"
      ]
     },
     "execution_count": 27,
     "metadata": {},
     "output_type": "execute_result"
    }
   ],
   "source": [
    "list(range(7,2,-1))"
   ]
  },
  {
   "cell_type": "code",
   "execution_count": 28,
   "id": "c1bd95b4",
   "metadata": {},
   "outputs": [
    {
     "data": {
      "text/plain": [
       "[0, 1, 2, 3, 4]"
      ]
     },
     "execution_count": 28,
     "metadata": {},
     "output_type": "execute_result"
    }
   ],
   "source": [
    "list(range(5))"
   ]
  },
  {
   "cell_type": "code",
   "execution_count": null,
   "id": "33f37671",
   "metadata": {},
   "outputs": [],
   "source": []
  }
 ],
 "metadata": {
  "kernelspec": {
   "display_name": "Python 3 (ipykernel)",
   "language": "python",
   "name": "python3"
  },
  "language_info": {
   "codemirror_mode": {
    "name": "ipython",
    "version": 3
   },
   "file_extension": ".py",
   "mimetype": "text/x-python",
   "name": "python",
   "nbconvert_exporter": "python",
   "pygments_lexer": "ipython3",
   "version": "3.11.5"
  }
 },
 "nbformat": 4,
 "nbformat_minor": 5
}
